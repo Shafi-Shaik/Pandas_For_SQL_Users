{
 "cells": [
  {
   "cell_type": "code",
   "execution_count": 1,
   "id": "b72f88c2-dbda-4fb7-b329-63eb8b279fef",
   "metadata": {},
   "outputs": [],
   "source": [
    "import pandas as pd\n",
    "import numpy as np"
   ]
  },
  {
   "cell_type": "code",
   "execution_count": 2,
   "id": "0ead5060-81a9-4e70-99f6-12cb2a819f34",
   "metadata": {},
   "outputs": [],
   "source": [
    "bbl=pd.read_csv(\"S:\\\\Datasets\\\\BBL_cricket\\\\ballbyball.csv\",low_memory=False)"
   ]
  },
  {
   "cell_type": "code",
   "execution_count": 3,
   "id": "3743a661-98a0-4107-b544-3568e449da84",
   "metadata": {},
   "outputs": [
    {
     "data": {
      "text/plain": [
       "(44382, 26)"
      ]
     },
     "execution_count": 3,
     "metadata": {},
     "output_type": "execute_result"
    }
   ],
   "source": [
    "bbl.columns=bbl.columns.str.lower()\n",
    "bbl.shape"
   ]
  },
  {
   "cell_type": "code",
   "execution_count": 4,
   "id": "23143e94-a70c-4767-b376-fdd703ebd7b4",
   "metadata": {},
   "outputs": [],
   "source": [
    "required_cols=['striker', 'bowler', 'extras_noballs', 'runs_batsman', 'runs_extras',\n",
    "              'runs_total', 'winning_team', 'mom', 'match_id', 'match_date']"
   ]
  },
  {
   "cell_type": "code",
   "execution_count": 5,
   "id": "eced38a2-8d63-4cee-bc26-b54a457e28f9",
   "metadata": {},
   "outputs": [],
   "source": [
    "bbl=bbl[required_cols]"
   ]
  },
  {
   "cell_type": "code",
   "execution_count": 6,
   "id": "ac2384e0-13fb-4a55-beff-27d567af3708",
   "metadata": {},
   "outputs": [
    {
     "data": {
      "text/plain": [
       "(44382, 10)"
      ]
     },
     "execution_count": 6,
     "metadata": {},
     "output_type": "execute_result"
    }
   ],
   "source": [
    "bbl.shape"
   ]
  },
  {
   "cell_type": "markdown",
   "id": "01daf195-55f7-4dad-93a6-7260e67fe0af",
   "metadata": {},
   "source": [
    "# Group BY"
   ]
  },
  {
   "cell_type": "markdown",
   "id": "32c09479-ad67-488a-9f04-cb50329bf68e",
   "metadata": {},
   "source": [
    "### 1) COUNT Distinct Match ids\n",
    "\n",
    "```\n",
    "SELECT COUNT(DISTINCT match_id)\n",
    "FROM bbl\n",
    "\n",
    "```\n",
    "o/p: 190"
   ]
  },
  {
   "cell_type": "code",
   "execution_count": 7,
   "id": "e42b1b52-d4cc-4f56-ba32-973526783fb1",
   "metadata": {},
   "outputs": [
    {
     "data": {
      "text/plain": [
       "190"
      ]
     },
     "execution_count": 7,
     "metadata": {},
     "output_type": "execute_result"
    }
   ],
   "source": [
    "bbl['match_id'].nunique()"
   ]
  },
  {
   "cell_type": "markdown",
   "id": "0f4b4f4e-baa7-4873-b771-b4ee87a10acf",
   "metadata": {},
   "source": [
    "### 2) Extract Distinct Match but show only 3\n",
    "```\n",
    "SELECT match_id\n",
    "FROM bbl\n",
    "GROUP BY match_id\n",
    "\n",
    "```\n",
    "o/p: \n",
    "1023581\n",
    "1023583\n",
    "1023585\n"
   ]
  },
  {
   "cell_type": "code",
   "execution_count": 8,
   "id": "0a4fd632-083c-4edc-bb20-36ddf57e73f3",
   "metadata": {},
   "outputs": [
    {
     "data": {
      "text/plain": [
       "array([1023581, 1023583, 1023585], dtype=int64)"
      ]
     },
     "execution_count": 8,
     "metadata": {},
     "output_type": "execute_result"
    }
   ],
   "source": [
    "bbl['match_id'].unique()[0:3]"
   ]
  },
  {
   "cell_type": "markdown",
   "id": "c9f98ebe-c5f1-40bc-9c7c-83589eec37ad",
   "metadata": {},
   "source": [
    "### 3) Matches Won by Team\n",
    "```\n",
    "SELECT winning_team, count(distinct match_id)\n",
    "FROM bbl\n",
    "GROUP BY winning_team\n",
    "\n",
    "```\n",
    "o/p: <br> \n",
    "Adelaide Strikers      21 <br> \n",
    "Brisbane Heat          19 <br> \n",
    "Hobart Hurricanes      19 <br> \n",
    "Melbourne Renegades    21 <br> \n",
    "Melbourne Stars        28 <br> \n",
    "Perth Scorchers        36 <br> \n",
    "Sydney Sixers          29 <br> \n",
    "Sydney Thunder         12"
   ]
  },
  {
   "cell_type": "code",
   "execution_count": 9,
   "id": "48ae906d-c564-4606-a4c2-4f2a5d102164",
   "metadata": {},
   "outputs": [
    {
     "data": {
      "text/plain": [
       "winning_team\n",
       "Adelaide Strikers      21\n",
       "Brisbane Heat          19\n",
       "Hobart Hurricanes      19\n",
       "Melbourne Renegades    21\n",
       "Melbourne Stars        28\n",
       "Perth Scorchers        36\n",
       "Sydney Sixers          29\n",
       "Sydney Thunder         12\n",
       "Name: match_id, dtype: int64"
      ]
     },
     "execution_count": 9,
     "metadata": {},
     "output_type": "execute_result"
    }
   ],
   "source": [
    "bbl.groupby(['winning_team'])['match_id'].nunique()"
   ]
  },
  {
   "cell_type": "markdown",
   "id": "36b65557-5a39-4dcc-b50c-e258e8421f7c",
   "metadata": {},
   "source": [
    "### 4) TOP 4 Batters with Highest no. of matches played\n",
    "```\n",
    "SELECT Striker, count(distinct match_id) as played_matches\n",
    "FROM bbl\n",
    "GROUP BY Striker\n",
    "ORDER BY 2 Desc\n",
    "LIMIT 4\n",
    "\n",
    "```"
   ]
  },
  {
   "cell_type": "code",
   "execution_count": 10,
   "id": "b65838dd-10f3-4805-aab6-7606899a29fc",
   "metadata": {},
   "outputs": [
    {
     "data": {
      "text/plain": [
       "striker\n",
       "LJ Wright       48\n",
       "M Klinger       47\n",
       "CL White        46\n",
       "MC Henriques    45\n",
       "Name: match_id, dtype: int64"
      ]
     },
     "execution_count": 10,
     "metadata": {},
     "output_type": "execute_result"
    }
   ],
   "source": [
    "bbl.groupby(['striker'])['match_id'].nunique()\\\n",
    "      .sort_values(ascending=False)\\\n",
    "       .head(4)"
   ]
  },
  {
   "cell_type": "markdown",
   "id": "a5feb4d3-8a88-47e4-ae0b-b87456b9c445",
   "metadata": {
    "tags": []
   },
   "source": [
    "### 4) TOP 4 Batters w.r.t average_runs_per_match\n",
    "```\n",
    "SELECT Striker, \n",
    "       COUNT(DISTINCT match_id) as played_matches,\n",
    "       SUM(runs_total) as total_runs,\n",
    "       SUM(runs_total)/COUNT(DISTINCT match_id) as Average_runs_per_match\n",
    "FROM bbl\n",
    "GROUP BY Striker\n",
    "ORDER BY 2 Desc\n",
    "LIMIT 4\n",
    "\n",
    "```"
   ]
  },
  {
   "cell_type": "code",
   "execution_count": 11,
   "id": "ef76cf39-c462-4174-9bb6-5c172fcdc6d6",
   "metadata": {},
   "outputs": [
    {
     "data": {
      "text/html": [
       "<div>\n",
       "<style scoped>\n",
       "    .dataframe tbody tr th:only-of-type {\n",
       "        vertical-align: middle;\n",
       "    }\n",
       "\n",
       "    .dataframe tbody tr th {\n",
       "        vertical-align: top;\n",
       "    }\n",
       "\n",
       "    .dataframe thead th {\n",
       "        text-align: right;\n",
       "    }\n",
       "</style>\n",
       "<table border=\"1\" class=\"dataframe\">\n",
       "  <thead>\n",
       "    <tr style=\"text-align: right;\">\n",
       "      <th></th>\n",
       "      <th>played_matches</th>\n",
       "      <th>total_runs</th>\n",
       "      <th>average_runs_per_match</th>\n",
       "    </tr>\n",
       "    <tr>\n",
       "      <th>striker</th>\n",
       "      <th></th>\n",
       "      <th></th>\n",
       "      <th></th>\n",
       "    </tr>\n",
       "  </thead>\n",
       "  <tbody>\n",
       "    <tr>\n",
       "      <th>LJ Wright</th>\n",
       "      <td>48</td>\n",
       "      <td>1391</td>\n",
       "      <td>28.979167</td>\n",
       "    </tr>\n",
       "    <tr>\n",
       "      <th>M Klinger</th>\n",
       "      <td>47</td>\n",
       "      <td>1447</td>\n",
       "      <td>30.787234</td>\n",
       "    </tr>\n",
       "    <tr>\n",
       "      <th>CL White</th>\n",
       "      <td>46</td>\n",
       "      <td>1106</td>\n",
       "      <td>24.043478</td>\n",
       "    </tr>\n",
       "    <tr>\n",
       "      <th>MC Henriques</th>\n",
       "      <td>45</td>\n",
       "      <td>1189</td>\n",
       "      <td>26.422222</td>\n",
       "    </tr>\n",
       "  </tbody>\n",
       "</table>\n",
       "</div>"
      ],
      "text/plain": [
       "              played_matches  total_runs  average_runs_per_match\n",
       "striker                                                         \n",
       "LJ Wright                 48        1391               28.979167\n",
       "M Klinger                 47        1447               30.787234\n",
       "CL White                  46        1106               24.043478\n",
       "MC Henriques              45        1189               26.422222"
      ]
     },
     "execution_count": 11,
     "metadata": {},
     "output_type": "execute_result"
    }
   ],
   "source": [
    "df1=bbl.groupby(['striker'])\\\n",
    "      .agg(played_matches = ('match_id','nunique'),\n",
    "           total_runs=('runs_total','sum'))\n",
    "\n",
    "df1['average_runs_per_match']=df1['total_runs']/df1['played_matches']\n",
    "df1.sort_values(by =['played_matches'],ascending=False).head(4)"
   ]
  },
  {
   "cell_type": "markdown",
   "id": "50bd182b-b4fe-463b-b24b-8ed0cc3b7927",
   "metadata": {
    "tags": []
   },
   "source": [
    "### 5) Bats Man statistics show when they enter the field\n",
    "```\n",
    "SELECT \n",
    "    striker,\n",
    "    sum(runs_total) as total_runs,\n",
    "    count(distinct match_id) as  matches_played,\n",
    "    round(1.0 *sum(runs_total) /\n",
    "    count(distinct match_id),2)as  Average_Runs,\n",
    "    count(case when runs_batsman >=4 then 'boundary' else null end) as boundaries,\n",
    "    count(case when runs_batsman =4 then 'boundary' else null end) as fours,\n",
    "    count(case when runs_batsman =6 then 'boundary' else null end) as sixes\n",
    "FROM bbl\n",
    "GROUP BY Striker\n",
    "ORDER BY sixes DESC, striker ASC\n",
    "LIMIT 10\n",
    "\n",
    "```"
   ]
  },
  {
   "cell_type": "code",
   "execution_count": 12,
   "id": "4dc66dee-d090-4444-80f5-3e6c27e132ab",
   "metadata": {},
   "outputs": [
    {
     "data": {
      "text/html": [
       "<div>\n",
       "<style scoped>\n",
       "    .dataframe tbody tr th:only-of-type {\n",
       "        vertical-align: middle;\n",
       "    }\n",
       "\n",
       "    .dataframe tbody tr th {\n",
       "        vertical-align: top;\n",
       "    }\n",
       "\n",
       "    .dataframe thead th {\n",
       "        text-align: right;\n",
       "    }\n",
       "</style>\n",
       "<table border=\"1\" class=\"dataframe\">\n",
       "  <thead>\n",
       "    <tr style=\"text-align: right;\">\n",
       "      <th></th>\n",
       "      <th>total_runs</th>\n",
       "      <th>played_matches</th>\n",
       "      <th>fours</th>\n",
       "      <th>sixes</th>\n",
       "      <th>boundaries</th>\n",
       "      <th>average_runs_per_match</th>\n",
       "    </tr>\n",
       "    <tr>\n",
       "      <th>striker</th>\n",
       "      <th></th>\n",
       "      <th></th>\n",
       "      <th></th>\n",
       "      <th></th>\n",
       "      <th></th>\n",
       "      <th></th>\n",
       "    </tr>\n",
       "  </thead>\n",
       "  <tbody>\n",
       "    <tr>\n",
       "      <th>CA Lynn</th>\n",
       "      <td>1397</td>\n",
       "      <td>41</td>\n",
       "      <td>89</td>\n",
       "      <td>92</td>\n",
       "      <td>181</td>\n",
       "      <td>34.073171</td>\n",
       "    </tr>\n",
       "    <tr>\n",
       "      <th>AJ Finch</th>\n",
       "      <td>1654</td>\n",
       "      <td>39</td>\n",
       "      <td>148</td>\n",
       "      <td>56</td>\n",
       "      <td>204</td>\n",
       "      <td>42.410256</td>\n",
       "    </tr>\n",
       "    <tr>\n",
       "      <th>CH Gayle</th>\n",
       "      <td>653</td>\n",
       "      <td>20</td>\n",
       "      <td>34</td>\n",
       "      <td>49</td>\n",
       "      <td>83</td>\n",
       "      <td>32.650000</td>\n",
       "    </tr>\n",
       "    <tr>\n",
       "      <th>BJ Hodge</th>\n",
       "      <td>1305</td>\n",
       "      <td>37</td>\n",
       "      <td>107</td>\n",
       "      <td>46</td>\n",
       "      <td>153</td>\n",
       "      <td>35.270270</td>\n",
       "    </tr>\n",
       "    <tr>\n",
       "      <th>NJ Maddinson</th>\n",
       "      <td>1092</td>\n",
       "      <td>44</td>\n",
       "      <td>99</td>\n",
       "      <td>43</td>\n",
       "      <td>142</td>\n",
       "      <td>24.818182</td>\n",
       "    </tr>\n",
       "    <tr>\n",
       "      <th>SE Marsh</th>\n",
       "      <td>1363</td>\n",
       "      <td>31</td>\n",
       "      <td>115</td>\n",
       "      <td>43</td>\n",
       "      <td>158</td>\n",
       "      <td>43.967742</td>\n",
       "    </tr>\n",
       "    <tr>\n",
       "      <th>DT Christian</th>\n",
       "      <td>872</td>\n",
       "      <td>41</td>\n",
       "      <td>50</td>\n",
       "      <td>40</td>\n",
       "      <td>90</td>\n",
       "      <td>21.268293</td>\n",
       "    </tr>\n",
       "    <tr>\n",
       "      <th>LJ Wright</th>\n",
       "      <td>1391</td>\n",
       "      <td>48</td>\n",
       "      <td>142</td>\n",
       "      <td>40</td>\n",
       "      <td>182</td>\n",
       "      <td>28.979167</td>\n",
       "    </tr>\n",
       "    <tr>\n",
       "      <th>CL White</th>\n",
       "      <td>1106</td>\n",
       "      <td>46</td>\n",
       "      <td>75</td>\n",
       "      <td>38</td>\n",
       "      <td>113</td>\n",
       "      <td>24.043478</td>\n",
       "    </tr>\n",
       "    <tr>\n",
       "      <th>BR Dunk</th>\n",
       "      <td>1114</td>\n",
       "      <td>38</td>\n",
       "      <td>95</td>\n",
       "      <td>36</td>\n",
       "      <td>131</td>\n",
       "      <td>29.315789</td>\n",
       "    </tr>\n",
       "  </tbody>\n",
       "</table>\n",
       "</div>"
      ],
      "text/plain": [
       "              total_runs  played_matches  fours  sixes  boundaries  \\\n",
       "striker                                                              \n",
       "CA Lynn             1397              41     89     92         181   \n",
       "AJ Finch            1654              39    148     56         204   \n",
       "CH Gayle             653              20     34     49          83   \n",
       "BJ Hodge            1305              37    107     46         153   \n",
       "NJ Maddinson        1092              44     99     43         142   \n",
       "SE Marsh            1363              31    115     43         158   \n",
       "DT Christian         872              41     50     40          90   \n",
       "LJ Wright           1391              48    142     40         182   \n",
       "CL White            1106              46     75     38         113   \n",
       "BR Dunk             1114              38     95     36         131   \n",
       "\n",
       "              average_runs_per_match  \n",
       "striker                               \n",
       "CA Lynn                    34.073171  \n",
       "AJ Finch                   42.410256  \n",
       "CH Gayle                   32.650000  \n",
       "BJ Hodge                   35.270270  \n",
       "NJ Maddinson               24.818182  \n",
       "SE Marsh                   43.967742  \n",
       "DT Christian               21.268293  \n",
       "LJ Wright                  28.979167  \n",
       "CL White                   24.043478  \n",
       "BR Dunk                    29.315789  "
      ]
     },
     "execution_count": 12,
     "metadata": {},
     "output_type": "execute_result"
    }
   ],
   "source": [
    "result=bbl.assign(\n",
    "    fours = np.where(bbl['runs_batsman']==4,1,0),\n",
    "    sixes = np.where(bbl['runs_batsman']==6,1,0),\n",
    "    boundaries = np.where(bbl['runs_batsman']>3,1,0)\n",
    "  ) \\\n",
    ".groupby('striker').agg({'runs_total':sum,\n",
    "                         'match_id':pd.Series.nunique,\n",
    "                         'fours':sum, \n",
    "                         'sixes':sum,\n",
    "                         'boundaries':sum,\n",
    "                         })\\\n",
    "                   .rename(columns={'runs_total':'total_runs','match_id':'played_matches'})\n",
    "                   \n",
    "result['average_runs_per_match']=result['total_runs']/result['played_matches']\n",
    "result.sort_values(by =['sixes','striker'],ascending=[False,True]).head(10)"
   ]
  },
  {
   "cell_type": "code",
   "execution_count": null,
   "id": "fd009a8b-bb81-44f2-a907-c65da1e32c61",
   "metadata": {},
   "outputs": [],
   "source": []
  },
  {
   "cell_type": "code",
   "execution_count": null,
   "id": "3892d780-f05b-4605-ad5e-ba65de67eed9",
   "metadata": {},
   "outputs": [],
   "source": []
  },
  {
   "cell_type": "code",
   "execution_count": null,
   "id": "299df075-94bd-4312-b44f-453ff2ab042d",
   "metadata": {},
   "outputs": [],
   "source": []
  },
  {
   "cell_type": "code",
   "execution_count": null,
   "id": "b1fe9c69-f9a0-4dfb-9eba-9f30503d5cd8",
   "metadata": {},
   "outputs": [],
   "source": []
  },
  {
   "cell_type": "code",
   "execution_count": null,
   "id": "4849af47-ee7a-40be-8318-1301b4838adf",
   "metadata": {},
   "outputs": [],
   "source": []
  },
  {
   "cell_type": "code",
   "execution_count": null,
   "id": "34a681c7-588f-43df-b37e-38c3a76bdf89",
   "metadata": {},
   "outputs": [],
   "source": []
  },
  {
   "cell_type": "markdown",
   "id": "c70dcaa7-91fe-4f39-a1fa-01590582a6b2",
   "metadata": {
    "tags": []
   },
   "source": [
    " ##### Author: &lt; Shafi Mohiddin Shaik&gt; <hr> LinkedIn : [Click to get redirected to Shafi's Linkedin Page]( https://www.linkedin.com/in/shafi-shaik-0279651b0/)"
   ]
  }
 ],
 "metadata": {
  "kernelspec": {
   "display_name": "Python 3 (ipykernel)",
   "language": "python",
   "name": "python3"
  },
  "language_info": {
   "codemirror_mode": {
    "name": "ipython",
    "version": 3
   },
   "file_extension": ".py",
   "mimetype": "text/x-python",
   "name": "python",
   "nbconvert_exporter": "python",
   "pygments_lexer": "ipython3",
   "version": "3.10.7"
  }
 },
 "nbformat": 4,
 "nbformat_minor": 5
}
