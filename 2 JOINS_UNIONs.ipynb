{
 "cells": [
  {
   "cell_type": "code",
   "execution_count": 1,
   "id": "52650a73-8dbf-4276-907f-7ffd4281dd61",
   "metadata": {},
   "outputs": [],
   "source": [
    "import pandas as pd\n",
    "import glob \n",
    "import os"
   ]
  },
  {
   "cell_type": "code",
   "execution_count": 2,
   "id": "43b09951-f352-4bdb-adf6-e018487da52c",
   "metadata": {},
   "outputs": [],
   "source": [
    "Dir = 'S:\\\\Datasets\\\\DE\\\\data'"
   ]
  },
  {
   "cell_type": "markdown",
   "id": "d2d92321-9979-49e3-a73e-4626be069cb5",
   "metadata": {
    "tags": []
   },
   "source": [
    "## Reading All CSV files within a Folder "
   ]
  },
  {
   "cell_type": "code",
   "execution_count": 3,
   "id": "f19d64a8-e9f0-4108-b275-056faeb78d6d",
   "metadata": {},
   "outputs": [
    {
     "data": {
      "text/plain": [
       "['S:\\\\Datasets\\\\DE\\\\data\\\\customers.csv',\n",
       " 'S:\\\\Datasets\\\\DE\\\\data\\\\geolocation.csv',\n",
       " 'S:\\\\Datasets\\\\DE\\\\data\\\\orders.csv',\n",
       " 'S:\\\\Datasets\\\\DE\\\\data\\\\order_items.csv',\n",
       " 'S:\\\\Datasets\\\\DE\\\\data\\\\order_payments.csv',\n",
       " 'S:\\\\Datasets\\\\DE\\\\data\\\\order_reviews.csv',\n",
       " 'S:\\\\Datasets\\\\DE\\\\data\\\\products.csv',\n",
       " 'S:\\\\Datasets\\\\DE\\\\data\\\\product_category_name_translation.csv',\n",
       " 'S:\\\\Datasets\\\\DE\\\\data\\\\sellers.csv']"
      ]
     },
     "execution_count": 3,
     "metadata": {},
     "output_type": "execute_result"
    }
   ],
   "source": [
    "all_files_path=glob.glob(Dir +'\\\\*.csv')\n",
    "all_files_path"
   ]
  },
  {
   "cell_type": "code",
   "execution_count": 4,
   "id": "690370e4-cc2e-465b-80d7-93eaedaa82aa",
   "metadata": {},
   "outputs": [
    {
     "data": {
      "text/plain": [
       "['customers',\n",
       " 'geolocation',\n",
       " 'orders',\n",
       " 'order_items',\n",
       " 'order_payments',\n",
       " 'order_reviews',\n",
       " 'products',\n",
       " 'product_category_name_translation',\n",
       " 'sellers']"
      ]
     },
     "execution_count": 4,
     "metadata": {},
     "output_type": "execute_result"
    }
   ],
   "source": [
    "file_names=os.listdir(Dir)\n",
    "f_list=[]\n",
    "for i in range(len(file_names)):    \n",
    "    f_list.append(file_names[i].split('.')[0])\n",
    "f_list"
   ]
  },
  {
   "cell_type": "code",
   "execution_count": 5,
   "id": "efa82209-bec3-4f28-9f4a-384007c2e41f",
   "metadata": {},
   "outputs": [],
   "source": [
    "dfs={}\n",
    "for s in range(len(all_files_path)):\n",
    "    dfs[f_list[s]]=pd.read_csv(all_files_path[s])\n",
    "    \n",
    "    "
   ]
  },
  {
   "cell_type": "code",
   "execution_count": 6,
   "id": "7722f61c-38e0-4b1b-88b0-eedbe46761b7",
   "metadata": {},
   "outputs": [
    {
     "data": {
      "text/html": [
       "<div>\n",
       "<style scoped>\n",
       "    .dataframe tbody tr th:only-of-type {\n",
       "        vertical-align: middle;\n",
       "    }\n",
       "\n",
       "    .dataframe tbody tr th {\n",
       "        vertical-align: top;\n",
       "    }\n",
       "\n",
       "    .dataframe thead th {\n",
       "        text-align: right;\n",
       "    }\n",
       "</style>\n",
       "<table border=\"1\" class=\"dataframe\">\n",
       "  <thead>\n",
       "    <tr style=\"text-align: right;\">\n",
       "      <th></th>\n",
       "      <th>product_id</th>\n",
       "      <th>product_category_name</th>\n",
       "      <th>product_name_lenght</th>\n",
       "      <th>product_description_lenght</th>\n",
       "      <th>product_photos_qty</th>\n",
       "      <th>product_weight_g</th>\n",
       "      <th>product_length_cm</th>\n",
       "      <th>product_height_cm</th>\n",
       "      <th>product_width_cm</th>\n",
       "    </tr>\n",
       "  </thead>\n",
       "  <tbody>\n",
       "    <tr>\n",
       "      <th>0</th>\n",
       "      <td>1e9e8ef04dbcff4541ed26657ea517e5</td>\n",
       "      <td>perfumaria</td>\n",
       "      <td>40.0</td>\n",
       "      <td>287.0</td>\n",
       "      <td>1.0</td>\n",
       "      <td>225.0</td>\n",
       "      <td>16.0</td>\n",
       "      <td>10.0</td>\n",
       "      <td>14.0</td>\n",
       "    </tr>\n",
       "    <tr>\n",
       "      <th>1</th>\n",
       "      <td>3aa071139cb16b67ca9e5dea641aaa2f</td>\n",
       "      <td>artes</td>\n",
       "      <td>44.0</td>\n",
       "      <td>276.0</td>\n",
       "      <td>1.0</td>\n",
       "      <td>1000.0</td>\n",
       "      <td>30.0</td>\n",
       "      <td>18.0</td>\n",
       "      <td>20.0</td>\n",
       "    </tr>\n",
       "    <tr>\n",
       "      <th>2</th>\n",
       "      <td>96bd76ec8810374ed1b65e291975717f</td>\n",
       "      <td>esporte_lazer</td>\n",
       "      <td>46.0</td>\n",
       "      <td>250.0</td>\n",
       "      <td>1.0</td>\n",
       "      <td>154.0</td>\n",
       "      <td>18.0</td>\n",
       "      <td>9.0</td>\n",
       "      <td>15.0</td>\n",
       "    </tr>\n",
       "    <tr>\n",
       "      <th>3</th>\n",
       "      <td>cef67bcfe19066a932b7673e239eb23d</td>\n",
       "      <td>bebes</td>\n",
       "      <td>27.0</td>\n",
       "      <td>261.0</td>\n",
       "      <td>1.0</td>\n",
       "      <td>371.0</td>\n",
       "      <td>26.0</td>\n",
       "      <td>4.0</td>\n",
       "      <td>26.0</td>\n",
       "    </tr>\n",
       "    <tr>\n",
       "      <th>4</th>\n",
       "      <td>9dc1a7de274444849c219cff195d0b71</td>\n",
       "      <td>utilidades_domesticas</td>\n",
       "      <td>37.0</td>\n",
       "      <td>402.0</td>\n",
       "      <td>4.0</td>\n",
       "      <td>625.0</td>\n",
       "      <td>20.0</td>\n",
       "      <td>17.0</td>\n",
       "      <td>13.0</td>\n",
       "    </tr>\n",
       "    <tr>\n",
       "      <th>...</th>\n",
       "      <td>...</td>\n",
       "      <td>...</td>\n",
       "      <td>...</td>\n",
       "      <td>...</td>\n",
       "      <td>...</td>\n",
       "      <td>...</td>\n",
       "      <td>...</td>\n",
       "      <td>...</td>\n",
       "      <td>...</td>\n",
       "    </tr>\n",
       "    <tr>\n",
       "      <th>32946</th>\n",
       "      <td>a0b7d5a992ccda646f2d34e418fff5a0</td>\n",
       "      <td>moveis_decoracao</td>\n",
       "      <td>45.0</td>\n",
       "      <td>67.0</td>\n",
       "      <td>2.0</td>\n",
       "      <td>12300.0</td>\n",
       "      <td>40.0</td>\n",
       "      <td>40.0</td>\n",
       "      <td>40.0</td>\n",
       "    </tr>\n",
       "    <tr>\n",
       "      <th>32947</th>\n",
       "      <td>bf4538d88321d0fd4412a93c974510e6</td>\n",
       "      <td>construcao_ferramentas_iluminacao</td>\n",
       "      <td>41.0</td>\n",
       "      <td>971.0</td>\n",
       "      <td>1.0</td>\n",
       "      <td>1700.0</td>\n",
       "      <td>16.0</td>\n",
       "      <td>19.0</td>\n",
       "      <td>16.0</td>\n",
       "    </tr>\n",
       "    <tr>\n",
       "      <th>32948</th>\n",
       "      <td>9a7c6041fa9592d9d9ef6cfe62a71f8c</td>\n",
       "      <td>cama_mesa_banho</td>\n",
       "      <td>50.0</td>\n",
       "      <td>799.0</td>\n",
       "      <td>1.0</td>\n",
       "      <td>1400.0</td>\n",
       "      <td>27.0</td>\n",
       "      <td>7.0</td>\n",
       "      <td>27.0</td>\n",
       "    </tr>\n",
       "    <tr>\n",
       "      <th>32949</th>\n",
       "      <td>83808703fc0706a22e264b9d75f04a2e</td>\n",
       "      <td>informatica_acessorios</td>\n",
       "      <td>60.0</td>\n",
       "      <td>156.0</td>\n",
       "      <td>2.0</td>\n",
       "      <td>700.0</td>\n",
       "      <td>31.0</td>\n",
       "      <td>13.0</td>\n",
       "      <td>20.0</td>\n",
       "    </tr>\n",
       "    <tr>\n",
       "      <th>32950</th>\n",
       "      <td>106392145fca363410d287a815be6de4</td>\n",
       "      <td>cama_mesa_banho</td>\n",
       "      <td>58.0</td>\n",
       "      <td>309.0</td>\n",
       "      <td>1.0</td>\n",
       "      <td>2083.0</td>\n",
       "      <td>12.0</td>\n",
       "      <td>2.0</td>\n",
       "      <td>7.0</td>\n",
       "    </tr>\n",
       "  </tbody>\n",
       "</table>\n",
       "<p>32951 rows × 9 columns</p>\n",
       "</div>"
      ],
      "text/plain": [
       "                             product_id              product_category_name  \\\n",
       "0      1e9e8ef04dbcff4541ed26657ea517e5                         perfumaria   \n",
       "1      3aa071139cb16b67ca9e5dea641aaa2f                              artes   \n",
       "2      96bd76ec8810374ed1b65e291975717f                      esporte_lazer   \n",
       "3      cef67bcfe19066a932b7673e239eb23d                              bebes   \n",
       "4      9dc1a7de274444849c219cff195d0b71              utilidades_domesticas   \n",
       "...                                 ...                                ...   \n",
       "32946  a0b7d5a992ccda646f2d34e418fff5a0                   moveis_decoracao   \n",
       "32947  bf4538d88321d0fd4412a93c974510e6  construcao_ferramentas_iluminacao   \n",
       "32948  9a7c6041fa9592d9d9ef6cfe62a71f8c                    cama_mesa_banho   \n",
       "32949  83808703fc0706a22e264b9d75f04a2e             informatica_acessorios   \n",
       "32950  106392145fca363410d287a815be6de4                    cama_mesa_banho   \n",
       "\n",
       "       product_name_lenght  product_description_lenght  product_photos_qty  \\\n",
       "0                     40.0                       287.0                 1.0   \n",
       "1                     44.0                       276.0                 1.0   \n",
       "2                     46.0                       250.0                 1.0   \n",
       "3                     27.0                       261.0                 1.0   \n",
       "4                     37.0                       402.0                 4.0   \n",
       "...                    ...                         ...                 ...   \n",
       "32946                 45.0                        67.0                 2.0   \n",
       "32947                 41.0                       971.0                 1.0   \n",
       "32948                 50.0                       799.0                 1.0   \n",
       "32949                 60.0                       156.0                 2.0   \n",
       "32950                 58.0                       309.0                 1.0   \n",
       "\n",
       "       product_weight_g  product_length_cm  product_height_cm  \\\n",
       "0                 225.0               16.0               10.0   \n",
       "1                1000.0               30.0               18.0   \n",
       "2                 154.0               18.0                9.0   \n",
       "3                 371.0               26.0                4.0   \n",
       "4                 625.0               20.0               17.0   \n",
       "...                 ...                ...                ...   \n",
       "32946           12300.0               40.0               40.0   \n",
       "32947            1700.0               16.0               19.0   \n",
       "32948            1400.0               27.0                7.0   \n",
       "32949             700.0               31.0               13.0   \n",
       "32950            2083.0               12.0                2.0   \n",
       "\n",
       "       product_width_cm  \n",
       "0                  14.0  \n",
       "1                  20.0  \n",
       "2                  15.0  \n",
       "3                  26.0  \n",
       "4                  13.0  \n",
       "...                 ...  \n",
       "32946              40.0  \n",
       "32947              16.0  \n",
       "32948              27.0  \n",
       "32949              20.0  \n",
       "32950               7.0  \n",
       "\n",
       "[32951 rows x 9 columns]"
      ]
     },
     "execution_count": 6,
     "metadata": {},
     "output_type": "execute_result"
    }
   ],
   "source": [
    "dfs['products']"
   ]
  },
  {
   "cell_type": "code",
   "execution_count": null,
   "id": "e81fd5cd-e482-48ed-8578-c0dd31f1410b",
   "metadata": {},
   "outputs": [],
   "source": []
  },
  {
   "cell_type": "markdown",
   "id": "a17dfa51-5ab5-4101-afcd-51b9b52b598c",
   "metadata": {},
   "source": [
    "##  INNER JOIN 2 tables"
   ]
  },
  {
   "cell_type": "markdown",
   "id": "1df6959e-c677-49dd-9ce7-e428a727f098",
   "metadata": {},
   "source": [
    "```\n",
    "SELECT  COUNT(*) \n",
    "FROM orders o \n",
    "INNER JOIN customers c\n",
    "    ON o.customer_id = c.customer_id\n",
    "\n",
    "```\n",
    "O/P: 99441 ROWS"
   ]
  },
  {
   "cell_type": "code",
   "execution_count": 7,
   "id": "9944da59-751c-4166-a0e8-652b166d2fcd",
   "metadata": {},
   "outputs": [
    {
     "data": {
      "text/plain": [
       "(99441, 12)"
      ]
     },
     "execution_count": 7,
     "metadata": {},
     "output_type": "execute_result"
    }
   ],
   "source": [
    "dfs['orders'].merge(dfs['customers'],\\\n",
    "                     how='inner',\\\n",
    "                     left_on=['customer_id'], right_on = ['customer_id']\n",
    "                    )\\\n",
    "                   .shape"
   ]
  },
  {
   "cell_type": "markdown",
   "id": "9538f04c-0785-4095-81d5-69c83e33a9c1",
   "metadata": {},
   "source": [
    "##  INNER JOIN 3 tables"
   ]
  },
  {
   "cell_type": "markdown",
   "id": "c9408249-c8ae-4632-98c7-4ffc869888aa",
   "metadata": {},
   "source": [
    "```\n",
    "select COUNT(*)\n",
    "from orders o \n",
    "inner join customers c\n",
    "    on o.customer_id = c.customer_id\n",
    "inner join order_items oi\n",
    "\ton o.order_id = oi.order_id\n",
    "\n",
    "```\n",
    "O/P: 112650 ROWS"
   ]
  },
  {
   "cell_type": "code",
   "execution_count": 8,
   "id": "b53c4ea3-6282-44c2-97dc-1aa09b5493a4",
   "metadata": {},
   "outputs": [
    {
     "data": {
      "text/plain": [
       "(112650, 18)"
      ]
     },
     "execution_count": 8,
     "metadata": {},
     "output_type": "execute_result"
    }
   ],
   "source": [
    "dfs['orders'].merge(dfs['customers'],\\\n",
    "                     how='inner',\\\n",
    "                     left_on=['customer_id'], right_on = ['customer_id']\n",
    "                    )\\\n",
    "                   .merge(dfs['order_items'],\\\n",
    "                          how='inner',\\\n",
    "                          left_on=['order_id'],right_on=['order_id']\n",
    "                         )\\\n",
    "                   .shape"
   ]
  },
  {
   "cell_type": "markdown",
   "id": "cae7eddd-35c9-4bae-aa0f-aaf0f3d1c2db",
   "metadata": {
    "tags": []
   },
   "source": [
    "##  LEFT JOIN "
   ]
  },
  {
   "cell_type": "markdown",
   "id": "c421bb10-b840-4bb1-86c6-1d94838efa8a",
   "metadata": {},
   "source": [
    "```\n",
    "SELECT COUNT(*)\n",
    "FROM orders o \n",
    "LEFT JOIN order_items oi\n",
    "\tON o.order_id = oi.order_id\n",
    "\n",
    "```\n",
    "O/P: 113425 ROWS"
   ]
  },
  {
   "cell_type": "code",
   "execution_count": 9,
   "id": "4aa14e51-c8f0-418e-91be-aecf5c30d5e9",
   "metadata": {},
   "outputs": [
    {
     "data": {
      "text/plain": [
       "(113425, 14)"
      ]
     },
     "execution_count": 9,
     "metadata": {},
     "output_type": "execute_result"
    }
   ],
   "source": [
    "dfs['orders'].merge(dfs['order_items'],\\\n",
    "                          how='left',\\\n",
    "                          left_on=['order_id'],right_on=['order_id']\n",
    "                         )\\\n",
    "                   .shape"
   ]
  },
  {
   "cell_type": "markdown",
   "id": "c559878f-7102-40f0-a0fd-2289dbb00147",
   "metadata": {
    "tags": []
   },
   "source": [
    "##  RIGHT JOIN "
   ]
  },
  {
   "cell_type": "markdown",
   "id": "ed4f12fc-d4da-44bd-b536-ef601a66f5b5",
   "metadata": {},
   "source": [
    "```\n",
    "SELECT COUNT(*)\n",
    "FROM orders o \n",
    "RIGHT JOIN order_items oi\n",
    "\tON o.order_id = oi.order_id\n",
    "\n",
    "```\n",
    "O/P: 112650 ROWS"
   ]
  },
  {
   "cell_type": "code",
   "execution_count": 10,
   "id": "7eb241e7-d838-4e95-be3f-40da96bf8ed0",
   "metadata": {},
   "outputs": [
    {
     "data": {
      "text/plain": [
       "(112650, 14)"
      ]
     },
     "execution_count": 10,
     "metadata": {},
     "output_type": "execute_result"
    }
   ],
   "source": [
    "dfs['orders'].merge(dfs['order_items'],\\\n",
    "                          how='right',\\\n",
    "                          left_on=['order_id'],right_on=['order_id']\n",
    "                         )\\\n",
    "                   .shape"
   ]
  },
  {
   "cell_type": "markdown",
   "id": "9d094c7c-b0cf-4a12-821e-178f104379f5",
   "metadata": {
    "tags": []
   },
   "source": [
    "##  FULL OUTER JOIN "
   ]
  },
  {
   "cell_type": "markdown",
   "id": "45eb484a-b06f-443b-9b1c-97ad85223947",
   "metadata": {},
   "source": [
    "MySQL does not support direct full join hence combination of left and Right join\n",
    "```\n",
    "SELECT COUNT(*)\n",
    "FROM (\n",
    "        SELECT o.*\n",
    "        FROM orders o \n",
    "        LEFT JOIN order_items oi\n",
    "            ON o.order_id = oi.order_id\n",
    "        UNION ALL\n",
    "        SELECT a.*\n",
    "        FROM orders a \n",
    "        RIGHT JOIN order_items b\n",
    "        ON a.order_id = b.order_id\n",
    ")c ;\n",
    "\n",
    "```\n",
    "O/P: 226075 ROWS"
   ]
  },
  {
   "cell_type": "code",
   "execution_count": 22,
   "id": "d7b241a2-c53a-40dc-86b4-8a8e884d5458",
   "metadata": {},
   "outputs": [
    {
     "data": {
      "text/plain": [
       "(113425, 14)"
      ]
     },
     "execution_count": 22,
     "metadata": {},
     "output_type": "execute_result"
    }
   ],
   "source": [
    "dfs['orders'].merge(dfs['order_items'],\\\n",
    "                          how='outer',\\\n",
    "                          left_on=['order_id'],right_on=['order_id']\n",
    "                         )\\\n",
    "                   .shape"
   ]
  },
  {
   "cell_type": "markdown",
   "id": "a01a7d1d-1f71-4da7-83d3-49b2dd34cb2c",
   "metadata": {
    "tags": []
   },
   "source": [
    "##  INNER & LEFT JOIN combination"
   ]
  },
  {
   "cell_type": "markdown",
   "id": "c9b446e7-8904-4e9f-8354-5f9ee44552d0",
   "metadata": {},
   "source": [
    "```\n",
    "select COUNT(*)\n",
    "from orders o \n",
    "inner join customers c\n",
    "    on o.customer_id = c.customer_id\n",
    "left join order_items oi\n",
    "\ton o.order_id = oi.order_id\n",
    "\n",
    "```\n",
    "O/P: 113425 ROWS"
   ]
  },
  {
   "cell_type": "code",
   "execution_count": 12,
   "id": "f52c6d7d-5c41-468e-b6a3-4d021c2f15c1",
   "metadata": {},
   "outputs": [
    {
     "data": {
      "text/plain": [
       "(113425, 18)"
      ]
     },
     "execution_count": 12,
     "metadata": {},
     "output_type": "execute_result"
    }
   ],
   "source": [
    "dfs['orders'].merge(dfs['customers'],\\\n",
    "                     how='inner',\\\n",
    "                     left_on=['customer_id'], right_on = ['customer_id']\n",
    "                    )\\\n",
    "                   .merge(dfs['order_items'],\\\n",
    "                          how='left',\\\n",
    "                          left_on=['order_id'],right_on=['order_id']\n",
    "                         )\\\n",
    "                   .shape"
   ]
  },
  {
   "cell_type": "markdown",
   "id": "071fd00b-5793-4e3d-a7e7-bd40d629be3c",
   "metadata": {
    "tags": []
   },
   "source": [
    "##  CROSS JOIN "
   ]
  },
  {
   "cell_type": "markdown",
   "id": "0f0f7570-00de-4200-b669-f650c5768c9d",
   "metadata": {},
   "source": [
    "```\n",
    "SELECT COUNT(*)\n",
    "FROM orders o \n",
    "CROSS JOIN order_items oi\n",
    "\n",
    "```\n",
    "O/P: 11202028650 ROWS\n"
   ]
  },
  {
   "cell_type": "code",
   "execution_count": 13,
   "id": "b2af81fa-02c5-4b9e-94de-62687a959a70",
   "metadata": {},
   "outputs": [],
   "source": [
    "# dfs['orders'].merge(dfs['order_items'],\\\n",
    "#                           how='cross',\\\n",
    "#                          )\\\n",
    "#                    .shape\n",
    "\n",
    "# MemoryError: Unable to allocate 83.5 GiB for an array with shape (11202028650,) and data type int64\n",
    "#you can see same number of rows in the error statement : shape(11202028650,)"
   ]
  },
  {
   "cell_type": "markdown",
   "id": "d3944165-07d7-4d33-88c3-fbeaf8959e73",
   "metadata": {
    "tags": []
   },
   "source": [
    "##  SELF JOIN "
   ]
  },
  {
   "cell_type": "markdown",
   "id": "228c1aa9-0b55-477a-b370-b6d9e987d88d",
   "metadata": {},
   "source": [
    "```\n",
    "SELECT count(*)\n",
    "FROM order_items o \n",
    "JOIN order_items oi\n",
    "  ON o.order_id = oi.order_id\n",
    "  \n",
    "   (or)\n",
    "   \n",
    "SELECT count(*)\n",
    "FROM order_items o, order_items oi\n",
    " where o.order_id = oi.order_id\n",
    " \n",
    "```\n",
    "O/P: 157222 ROWS\n"
   ]
  },
  {
   "cell_type": "code",
   "execution_count": 14,
   "id": "f41dc7bb-97a2-427a-85b9-858fc1ddece9",
   "metadata": {},
   "outputs": [
    {
     "data": {
      "text/plain": [
       "(157222, 13)"
      ]
     },
     "execution_count": 14,
     "metadata": {},
     "output_type": "execute_result"
    }
   ],
   "source": [
    "dfs['order_items'].merge(dfs['order_items'],\\\n",
    "                          how='inner',\\\n",
    "                         left_on=['order_id'],right_on=['order_id']\n",
    "                         )\\\n",
    "                   .shape"
   ]
  },
  {
   "cell_type": "markdown",
   "id": "759520a7-04e5-4265-821d-471857e19f37",
   "metadata": {},
   "source": [
    "# UNION and UNION All"
   ]
  },
  {
   "cell_type": "code",
   "execution_count": 15,
   "id": "043fa6ca-7445-4e42-a69c-f2cb1a08979d",
   "metadata": {},
   "outputs": [],
   "source": [
    "t1 = {\"name\": ['Shafi','Shaik','Mohiddin'],\n",
    "     \"skill\":['SQL','Python','Tableau'],\n",
    "     \"salary\": [200,300,200]}\n",
    "t2 = {\"name\": ['Ravi','Teja','Mohiddin'],\n",
    "     \"skill\":['R','AWS','Tableau'],\n",
    "     \"salary\": [200,300,200]}"
   ]
  },
  {
   "cell_type": "code",
   "execution_count": 16,
   "id": "0125cf6c-a27e-4901-8d23-cdb259fba2cd",
   "metadata": {},
   "outputs": [
    {
     "data": {
      "text/html": [
       "<div>\n",
       "<style scoped>\n",
       "    .dataframe tbody tr th:only-of-type {\n",
       "        vertical-align: middle;\n",
       "    }\n",
       "\n",
       "    .dataframe tbody tr th {\n",
       "        vertical-align: top;\n",
       "    }\n",
       "\n",
       "    .dataframe thead th {\n",
       "        text-align: right;\n",
       "    }\n",
       "</style>\n",
       "<table border=\"1\" class=\"dataframe\">\n",
       "  <thead>\n",
       "    <tr style=\"text-align: right;\">\n",
       "      <th></th>\n",
       "      <th>name</th>\n",
       "      <th>skill</th>\n",
       "      <th>salary</th>\n",
       "    </tr>\n",
       "  </thead>\n",
       "  <tbody>\n",
       "    <tr>\n",
       "      <th>0</th>\n",
       "      <td>Shafi</td>\n",
       "      <td>SQL</td>\n",
       "      <td>200</td>\n",
       "    </tr>\n",
       "    <tr>\n",
       "      <th>1</th>\n",
       "      <td>Shaik</td>\n",
       "      <td>Python</td>\n",
       "      <td>300</td>\n",
       "    </tr>\n",
       "    <tr>\n",
       "      <th>2</th>\n",
       "      <td>Mohiddin</td>\n",
       "      <td>Tableau</td>\n",
       "      <td>200</td>\n",
       "    </tr>\n",
       "  </tbody>\n",
       "</table>\n",
       "</div>"
      ],
      "text/plain": [
       "       name    skill  salary\n",
       "0     Shafi      SQL     200\n",
       "1     Shaik   Python     300\n",
       "2  Mohiddin  Tableau     200"
      ]
     },
     "execution_count": 16,
     "metadata": {},
     "output_type": "execute_result"
    }
   ],
   "source": [
    "df1=pd.DataFrame(t1)\n",
    "df1"
   ]
  },
  {
   "cell_type": "code",
   "execution_count": 17,
   "id": "ff0e6367-d6d4-488e-81ef-d74e56127d21",
   "metadata": {},
   "outputs": [
    {
     "data": {
      "text/html": [
       "<div>\n",
       "<style scoped>\n",
       "    .dataframe tbody tr th:only-of-type {\n",
       "        vertical-align: middle;\n",
       "    }\n",
       "\n",
       "    .dataframe tbody tr th {\n",
       "        vertical-align: top;\n",
       "    }\n",
       "\n",
       "    .dataframe thead th {\n",
       "        text-align: right;\n",
       "    }\n",
       "</style>\n",
       "<table border=\"1\" class=\"dataframe\">\n",
       "  <thead>\n",
       "    <tr style=\"text-align: right;\">\n",
       "      <th></th>\n",
       "      <th>name</th>\n",
       "      <th>skill</th>\n",
       "      <th>salary</th>\n",
       "    </tr>\n",
       "  </thead>\n",
       "  <tbody>\n",
       "    <tr>\n",
       "      <th>0</th>\n",
       "      <td>Ravi</td>\n",
       "      <td>R</td>\n",
       "      <td>200</td>\n",
       "    </tr>\n",
       "    <tr>\n",
       "      <th>1</th>\n",
       "      <td>Teja</td>\n",
       "      <td>AWS</td>\n",
       "      <td>300</td>\n",
       "    </tr>\n",
       "    <tr>\n",
       "      <th>2</th>\n",
       "      <td>Mohiddin</td>\n",
       "      <td>Tableau</td>\n",
       "      <td>200</td>\n",
       "    </tr>\n",
       "  </tbody>\n",
       "</table>\n",
       "</div>"
      ],
      "text/plain": [
       "       name    skill  salary\n",
       "0      Ravi        R     200\n",
       "1      Teja      AWS     300\n",
       "2  Mohiddin  Tableau     200"
      ]
     },
     "execution_count": 17,
     "metadata": {},
     "output_type": "execute_result"
    }
   ],
   "source": [
    "df2=pd.DataFrame(t2)\n",
    "df2"
   ]
  },
  {
   "cell_type": "code",
   "execution_count": null,
   "id": "bda25bf1-7a3f-4192-be52-ae049e0d5153",
   "metadata": {},
   "outputs": [],
   "source": []
  },
  {
   "cell_type": "markdown",
   "id": "5c9a9a27-7794-4898-b86e-dc18eda48253",
   "metadata": {},
   "source": [
    "```\n",
    "SELECT * FROM df1\n",
    "UNION ALL\n",
    "SELECT * FROM df2 \n",
    " \n",
    "```\n",
    "<!-- \n",
    "Shafi\tSQL\t200\n",
    "Shaik\tPython\t300\n",
    "Mohiddin\tTableau\t200\n",
    "Ravi\tR\t200\n",
    "Teja\tAWS\t300\n",
    "Mohiddin\tTableau\t200\n",
    " -->\n"
   ]
  },
  {
   "cell_type": "code",
   "execution_count": 18,
   "id": "5fd79975-f573-4611-bccb-e236e9f1c284",
   "metadata": {},
   "outputs": [
    {
     "data": {
      "text/html": [
       "<div>\n",
       "<style scoped>\n",
       "    .dataframe tbody tr th:only-of-type {\n",
       "        vertical-align: middle;\n",
       "    }\n",
       "\n",
       "    .dataframe tbody tr th {\n",
       "        vertical-align: top;\n",
       "    }\n",
       "\n",
       "    .dataframe thead th {\n",
       "        text-align: right;\n",
       "    }\n",
       "</style>\n",
       "<table border=\"1\" class=\"dataframe\">\n",
       "  <thead>\n",
       "    <tr style=\"text-align: right;\">\n",
       "      <th></th>\n",
       "      <th>name</th>\n",
       "      <th>skill</th>\n",
       "      <th>salary</th>\n",
       "    </tr>\n",
       "  </thead>\n",
       "  <tbody>\n",
       "    <tr>\n",
       "      <th>0</th>\n",
       "      <td>Shafi</td>\n",
       "      <td>SQL</td>\n",
       "      <td>200</td>\n",
       "    </tr>\n",
       "    <tr>\n",
       "      <th>1</th>\n",
       "      <td>Shaik</td>\n",
       "      <td>Python</td>\n",
       "      <td>300</td>\n",
       "    </tr>\n",
       "    <tr>\n",
       "      <th>2</th>\n",
       "      <td>Mohiddin</td>\n",
       "      <td>Tableau</td>\n",
       "      <td>200</td>\n",
       "    </tr>\n",
       "    <tr>\n",
       "      <th>0</th>\n",
       "      <td>Ravi</td>\n",
       "      <td>R</td>\n",
       "      <td>200</td>\n",
       "    </tr>\n",
       "    <tr>\n",
       "      <th>1</th>\n",
       "      <td>Teja</td>\n",
       "      <td>AWS</td>\n",
       "      <td>300</td>\n",
       "    </tr>\n",
       "    <tr>\n",
       "      <th>2</th>\n",
       "      <td>Mohiddin</td>\n",
       "      <td>Tableau</td>\n",
       "      <td>200</td>\n",
       "    </tr>\n",
       "  </tbody>\n",
       "</table>\n",
       "</div>"
      ],
      "text/plain": [
       "       name    skill  salary\n",
       "0     Shafi      SQL     200\n",
       "1     Shaik   Python     300\n",
       "2  Mohiddin  Tableau     200\n",
       "0      Ravi        R     200\n",
       "1      Teja      AWS     300\n",
       "2  Mohiddin  Tableau     200"
      ]
     },
     "execution_count": 18,
     "metadata": {},
     "output_type": "execute_result"
    }
   ],
   "source": [
    "pd.concat([df1,df2])"
   ]
  },
  {
   "cell_type": "markdown",
   "id": "10f0937e-eb46-434b-8542-f53d5601aada",
   "metadata": {},
   "source": [
    "```\n",
    "SELECT * FROM df1\n",
    "UNION \n",
    "SELECT * FROM df2 \n",
    " \n",
    "```\n",
    "<!-- \n",
    "Shafi\tSQL\t200\n",
    "Shaik\tPython\t300\n",
    "Mohiddin\tTableau\t200\n",
    "Ravi\tR\t200\n",
    "Teja\tAWS\t300\n",
    "Mohiddin\tTableau\t200\n",
    " -->\n"
   ]
  },
  {
   "cell_type": "code",
   "execution_count": 19,
   "id": "4fbde4b1-9039-45d5-813d-82e8325535ea",
   "metadata": {},
   "outputs": [
    {
     "data": {
      "text/html": [
       "<div>\n",
       "<style scoped>\n",
       "    .dataframe tbody tr th:only-of-type {\n",
       "        vertical-align: middle;\n",
       "    }\n",
       "\n",
       "    .dataframe tbody tr th {\n",
       "        vertical-align: top;\n",
       "    }\n",
       "\n",
       "    .dataframe thead th {\n",
       "        text-align: right;\n",
       "    }\n",
       "</style>\n",
       "<table border=\"1\" class=\"dataframe\">\n",
       "  <thead>\n",
       "    <tr style=\"text-align: right;\">\n",
       "      <th></th>\n",
       "      <th>name</th>\n",
       "      <th>skill</th>\n",
       "      <th>salary</th>\n",
       "    </tr>\n",
       "  </thead>\n",
       "  <tbody>\n",
       "    <tr>\n",
       "      <th>0</th>\n",
       "      <td>Shafi</td>\n",
       "      <td>SQL</td>\n",
       "      <td>200</td>\n",
       "    </tr>\n",
       "    <tr>\n",
       "      <th>1</th>\n",
       "      <td>Shaik</td>\n",
       "      <td>Python</td>\n",
       "      <td>300</td>\n",
       "    </tr>\n",
       "    <tr>\n",
       "      <th>2</th>\n",
       "      <td>Mohiddin</td>\n",
       "      <td>Tableau</td>\n",
       "      <td>200</td>\n",
       "    </tr>\n",
       "    <tr>\n",
       "      <th>0</th>\n",
       "      <td>Ravi</td>\n",
       "      <td>R</td>\n",
       "      <td>200</td>\n",
       "    </tr>\n",
       "    <tr>\n",
       "      <th>1</th>\n",
       "      <td>Teja</td>\n",
       "      <td>AWS</td>\n",
       "      <td>300</td>\n",
       "    </tr>\n",
       "  </tbody>\n",
       "</table>\n",
       "</div>"
      ],
      "text/plain": [
       "       name    skill  salary\n",
       "0     Shafi      SQL     200\n",
       "1     Shaik   Python     300\n",
       "2  Mohiddin  Tableau     200\n",
       "0      Ravi        R     200\n",
       "1      Teja      AWS     300"
      ]
     },
     "execution_count": 19,
     "metadata": {},
     "output_type": "execute_result"
    }
   ],
   "source": [
    "pd.concat([df1,df2,df1]).drop_duplicates()"
   ]
  },
  {
   "cell_type": "markdown",
   "id": "385d2762-54ac-4e2d-995d-262b83bbf236",
   "metadata": {},
   "source": [
    "## Horizontal Concatenation - Not present in SQL"
   ]
  },
  {
   "cell_type": "code",
   "execution_count": 20,
   "id": "fd147bb0-8089-4161-9597-6fe589146e1f",
   "metadata": {},
   "outputs": [
    {
     "data": {
      "text/html": [
       "<div>\n",
       "<style scoped>\n",
       "    .dataframe tbody tr th:only-of-type {\n",
       "        vertical-align: middle;\n",
       "    }\n",
       "\n",
       "    .dataframe tbody tr th {\n",
       "        vertical-align: top;\n",
       "    }\n",
       "\n",
       "    .dataframe thead th {\n",
       "        text-align: right;\n",
       "    }\n",
       "</style>\n",
       "<table border=\"1\" class=\"dataframe\">\n",
       "  <thead>\n",
       "    <tr style=\"text-align: right;\">\n",
       "      <th></th>\n",
       "      <th>name</th>\n",
       "      <th>skill</th>\n",
       "      <th>salary</th>\n",
       "    </tr>\n",
       "  </thead>\n",
       "  <tbody>\n",
       "    <tr>\n",
       "      <th>0</th>\n",
       "      <td>Shafi</td>\n",
       "      <td>SQL</td>\n",
       "      <td>200</td>\n",
       "    </tr>\n",
       "    <tr>\n",
       "      <th>1</th>\n",
       "      <td>Shaik</td>\n",
       "      <td>Python</td>\n",
       "      <td>300</td>\n",
       "    </tr>\n",
       "    <tr>\n",
       "      <th>2</th>\n",
       "      <td>Mohiddin</td>\n",
       "      <td>Tableau</td>\n",
       "      <td>200</td>\n",
       "    </tr>\n",
       "    <tr>\n",
       "      <th>0</th>\n",
       "      <td>Ravi</td>\n",
       "      <td>R</td>\n",
       "      <td>200</td>\n",
       "    </tr>\n",
       "    <tr>\n",
       "      <th>1</th>\n",
       "      <td>Teja</td>\n",
       "      <td>AWS</td>\n",
       "      <td>300</td>\n",
       "    </tr>\n",
       "    <tr>\n",
       "      <th>2</th>\n",
       "      <td>Mohiddin</td>\n",
       "      <td>Tableau</td>\n",
       "      <td>200</td>\n",
       "    </tr>\n",
       "  </tbody>\n",
       "</table>\n",
       "</div>"
      ],
      "text/plain": [
       "       name    skill  salary\n",
       "0     Shafi      SQL     200\n",
       "1     Shaik   Python     300\n",
       "2  Mohiddin  Tableau     200\n",
       "0      Ravi        R     200\n",
       "1      Teja      AWS     300\n",
       "2  Mohiddin  Tableau     200"
      ]
     },
     "execution_count": 20,
     "metadata": {},
     "output_type": "execute_result"
    }
   ],
   "source": [
    "pd.concat([df1,df2],axis='rows')"
   ]
  },
  {
   "cell_type": "code",
   "execution_count": 21,
   "id": "c9c1aba8-071c-4aea-81c0-feca78fb1156",
   "metadata": {},
   "outputs": [
    {
     "data": {
      "text/html": [
       "<div>\n",
       "<style scoped>\n",
       "    .dataframe tbody tr th:only-of-type {\n",
       "        vertical-align: middle;\n",
       "    }\n",
       "\n",
       "    .dataframe tbody tr th {\n",
       "        vertical-align: top;\n",
       "    }\n",
       "\n",
       "    .dataframe thead th {\n",
       "        text-align: right;\n",
       "    }\n",
       "</style>\n",
       "<table border=\"1\" class=\"dataframe\">\n",
       "  <thead>\n",
       "    <tr style=\"text-align: right;\">\n",
       "      <th></th>\n",
       "      <th>name</th>\n",
       "      <th>skill</th>\n",
       "      <th>salary</th>\n",
       "      <th>name</th>\n",
       "      <th>skill</th>\n",
       "      <th>salary</th>\n",
       "      <th>name</th>\n",
       "      <th>skill</th>\n",
       "      <th>salary</th>\n",
       "    </tr>\n",
       "  </thead>\n",
       "  <tbody>\n",
       "    <tr>\n",
       "      <th>0</th>\n",
       "      <td>Shafi</td>\n",
       "      <td>SQL</td>\n",
       "      <td>200</td>\n",
       "      <td>Ravi</td>\n",
       "      <td>R</td>\n",
       "      <td>200</td>\n",
       "      <td>Shafi</td>\n",
       "      <td>SQL</td>\n",
       "      <td>200</td>\n",
       "    </tr>\n",
       "    <tr>\n",
       "      <th>1</th>\n",
       "      <td>Shaik</td>\n",
       "      <td>Python</td>\n",
       "      <td>300</td>\n",
       "      <td>Teja</td>\n",
       "      <td>AWS</td>\n",
       "      <td>300</td>\n",
       "      <td>Shaik</td>\n",
       "      <td>Python</td>\n",
       "      <td>300</td>\n",
       "    </tr>\n",
       "    <tr>\n",
       "      <th>2</th>\n",
       "      <td>Mohiddin</td>\n",
       "      <td>Tableau</td>\n",
       "      <td>200</td>\n",
       "      <td>Mohiddin</td>\n",
       "      <td>Tableau</td>\n",
       "      <td>200</td>\n",
       "      <td>Mohiddin</td>\n",
       "      <td>Tableau</td>\n",
       "      <td>200</td>\n",
       "    </tr>\n",
       "  </tbody>\n",
       "</table>\n",
       "</div>"
      ],
      "text/plain": [
       "       name    skill  salary      name    skill  salary      name    skill  \\\n",
       "0     Shafi      SQL     200      Ravi        R     200     Shafi      SQL   \n",
       "1     Shaik   Python     300      Teja      AWS     300     Shaik   Python   \n",
       "2  Mohiddin  Tableau     200  Mohiddin  Tableau     200  Mohiddin  Tableau   \n",
       "\n",
       "   salary  \n",
       "0     200  \n",
       "1     300  \n",
       "2     200  "
      ]
     },
     "execution_count": 21,
     "metadata": {},
     "output_type": "execute_result"
    }
   ],
   "source": [
    "pd.concat([df1,df2,df1],axis='columns')"
   ]
  },
  {
   "cell_type": "code",
   "execution_count": null,
   "id": "5d90e9b1-3231-44e6-8055-6d0720cab135",
   "metadata": {},
   "outputs": [],
   "source": []
  },
  {
   "cell_type": "markdown",
   "id": "1d1170db-be14-45f1-888b-8c3f7b565414",
   "metadata": {
    "jp-MarkdownHeadingCollapsed": true,
    "tags": []
   },
   "source": [
    " ##### Author: &lt; Shafi Mohiddin Shaik&gt; <hr> LinkedIn : [Click to get redirected to Shafi's Linkedin Page]( https://www.linkedin.com/in/shafi-shaik-0279651b0/)"
   ]
  }
 ],
 "metadata": {
  "kernelspec": {
   "display_name": "Python 3 (ipykernel)",
   "language": "python",
   "name": "python3"
  },
  "language_info": {
   "codemirror_mode": {
    "name": "ipython",
    "version": 3
   },
   "file_extension": ".py",
   "mimetype": "text/x-python",
   "name": "python",
   "nbconvert_exporter": "python",
   "pygments_lexer": "ipython3",
   "version": "3.10.7"
  }
 },
 "nbformat": 4,
 "nbformat_minor": 5
}
