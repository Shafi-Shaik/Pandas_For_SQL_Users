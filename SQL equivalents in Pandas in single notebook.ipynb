{
 "cells": [
  {
   "cell_type": "code",
   "execution_count": 1,
   "id": "2b280d98-daee-4e9d-aac0-1edc6c2a01e9",
   "metadata": {},
   "outputs": [],
   "source": [
    "import pandas as pd \n",
    "import numpy as np\n",
    "import pandasql as ps"
   ]
  },
  {
   "cell_type": "code",
   "execution_count": 2,
   "id": "d92ce8ee-782d-4f5f-8f34-83fabb562920",
   "metadata": {
    "scrolled": true
   },
   "outputs": [
    {
     "data": {
      "text/html": [
       "<div>\n",
       "<style scoped>\n",
       "    .dataframe tbody tr th:only-of-type {\n",
       "        vertical-align: middle;\n",
       "    }\n",
       "\n",
       "    .dataframe tbody tr th {\n",
       "        vertical-align: top;\n",
       "    }\n",
       "\n",
       "    .dataframe thead th {\n",
       "        text-align: right;\n",
       "    }\n",
       "</style>\n",
       "<table border=\"1\" class=\"dataframe\">\n",
       "  <thead>\n",
       "    <tr style=\"text-align: right;\">\n",
       "      <th></th>\n",
       "      <th>name</th>\n",
       "      <th>subject</th>\n",
       "      <th>marks</th>\n",
       "    </tr>\n",
       "  </thead>\n",
       "  <tbody>\n",
       "    <tr>\n",
       "      <th>0</th>\n",
       "      <td>A</td>\n",
       "      <td>Maths</td>\n",
       "      <td>91</td>\n",
       "    </tr>\n",
       "    <tr>\n",
       "      <th>1</th>\n",
       "      <td>A</td>\n",
       "      <td>science</td>\n",
       "      <td>20</td>\n",
       "    </tr>\n",
       "    <tr>\n",
       "      <th>2</th>\n",
       "      <td>A</td>\n",
       "      <td>social</td>\n",
       "      <td>91</td>\n",
       "    </tr>\n",
       "    <tr>\n",
       "      <th>3</th>\n",
       "      <td>B</td>\n",
       "      <td>Maths</td>\n",
       "      <td>35</td>\n",
       "    </tr>\n",
       "    <tr>\n",
       "      <th>4</th>\n",
       "      <td>B</td>\n",
       "      <td>science</td>\n",
       "      <td>38</td>\n",
       "    </tr>\n",
       "    <tr>\n",
       "      <th>5</th>\n",
       "      <td>B</td>\n",
       "      <td>social</td>\n",
       "      <td>42</td>\n",
       "    </tr>\n",
       "    <tr>\n",
       "      <th>6</th>\n",
       "      <td>C</td>\n",
       "      <td>Maths</td>\n",
       "      <td>91</td>\n",
       "    </tr>\n",
       "    <tr>\n",
       "      <th>7</th>\n",
       "      <td>C</td>\n",
       "      <td>science</td>\n",
       "      <td>38</td>\n",
       "    </tr>\n",
       "    <tr>\n",
       "      <th>8</th>\n",
       "      <td>C</td>\n",
       "      <td>social</td>\n",
       "      <td>90</td>\n",
       "    </tr>\n",
       "  </tbody>\n",
       "</table>\n",
       "</div>"
      ],
      "text/plain": [
       "  name  subject  marks\n",
       "0    A    Maths     91\n",
       "1    A  science     20\n",
       "2    A   social     91\n",
       "3    B    Maths     35\n",
       "4    B  science     38\n",
       "5    B   social     42\n",
       "6    C    Maths     91\n",
       "7    C  science     38\n",
       "8    C   social     90"
      ]
     },
     "execution_count": 2,
     "metadata": {},
     "output_type": "execute_result"
    }
   ],
   "source": [
    "d1 = { 'name': ['A','A','A','B','B','B','C','C','C'],\n",
    "       'subject': ['Maths','science','social','Maths','science','social','Maths','science','social'],\n",
    "\t\t'marks': [91,20,91,35,38,42,91,38,90]}\n",
    "df = pd.DataFrame(d1)\n",
    "df"
   ]
  },
  {
   "cell_type": "markdown",
   "id": "fe1ebafb-bbab-46b3-b8df-eeebcf8aac77",
   "metadata": {},
   "source": [
    "##  Just a basic SELECT clause\n",
    "`\n",
    "SELECT name,marks FROM df;\n",
    "`"
   ]
  },
  {
   "cell_type": "code",
   "execution_count": 3,
   "id": "8790092e-94b4-4bf1-b774-f2a934d928cd",
   "metadata": {},
   "outputs": [
    {
     "name": "stdout",
     "output_type": "stream",
     "text": [
      "  name  marks\n",
      "0    A     91\n",
      "1    A     20\n",
      "2    A     91\n",
      "3    B     35\n",
      "4    B     38\n",
      "5    B     42\n",
      "6    C     91\n",
      "7    C     38\n",
      "8    C     90\n"
     ]
    }
   ],
   "source": [
    "q1 = '''SELECT name,marks FROM df;'''\n",
    "print(ps.sqldf(q1,locals()))"
   ]
  },
  {
   "cell_type": "code",
   "execution_count": 4,
   "id": "2db55217-ddd6-4d18-be08-6da81122ba01",
   "metadata": {
    "scrolled": true
   },
   "outputs": [
    {
     "name": "stdout",
     "output_type": "stream",
     "text": [
      "  name  marks\n",
      "0    A     91\n",
      "1    A     20\n",
      "2    A     91\n",
      "3    B     35\n",
      "4    B     38\n",
      "5    B     42\n",
      "6    C     91\n",
      "7    C     38\n",
      "8    C     90\n"
     ]
    }
   ],
   "source": [
    "print(df[['name','marks']])"
   ]
  },
  {
   "cell_type": "markdown",
   "id": "0c9b278b-be48-4a67-97f9-854d3f9f502a",
   "metadata": {},
   "source": [
    "##  SELECT with WHERE\n",
    "`\n",
    "SELECT name,marks FROM df WHERE marks < 35;\n",
    "`"
   ]
  },
  {
   "cell_type": "code",
   "execution_count": 5,
   "id": "47220376-438c-4e81-97ad-36c97955e76b",
   "metadata": {},
   "outputs": [
    {
     "name": "stdout",
     "output_type": "stream",
     "text": [
      "  name  marks\n",
      "0    A     20\n"
     ]
    }
   ],
   "source": [
    "q1 = '''SELECT name,marks FROM df WHERE marks < 35'''\n",
    "print(ps.sqldf(q1,locals()))"
   ]
  },
  {
   "cell_type": "code",
   "execution_count": 6,
   "id": "8c665921-77ad-4964-882b-40674fad55c7",
   "metadata": {},
   "outputs": [
    {
     "data": {
      "text/html": [
       "<div>\n",
       "<style scoped>\n",
       "    .dataframe tbody tr th:only-of-type {\n",
       "        vertical-align: middle;\n",
       "    }\n",
       "\n",
       "    .dataframe tbody tr th {\n",
       "        vertical-align: top;\n",
       "    }\n",
       "\n",
       "    .dataframe thead th {\n",
       "        text-align: right;\n",
       "    }\n",
       "</style>\n",
       "<table border=\"1\" class=\"dataframe\">\n",
       "  <thead>\n",
       "    <tr style=\"text-align: right;\">\n",
       "      <th></th>\n",
       "      <th>name</th>\n",
       "      <th>marks</th>\n",
       "    </tr>\n",
       "  </thead>\n",
       "  <tbody>\n",
       "    <tr>\n",
       "      <th>1</th>\n",
       "      <td>A</td>\n",
       "      <td>20</td>\n",
       "    </tr>\n",
       "  </tbody>\n",
       "</table>\n",
       "</div>"
      ],
      "text/plain": [
       "  name  marks\n",
       "1    A     20"
      ]
     },
     "execution_count": 6,
     "metadata": {},
     "output_type": "execute_result"
    }
   ],
   "source": [
    "df.loc[df['marks'] < 35,['name','marks']]"
   ]
  },
  {
   "cell_type": "markdown",
   "id": "d1da06ba-6239-4049-9ce5-4f841f866e26",
   "metadata": {},
   "source": [
    "##  SELECT with WHERE, AND, OR (multiple conditions)\n",
    "`SELECT name,marks FROM df WHERE marks < 35 OR name ='B';\n",
    "`"
   ]
  },
  {
   "cell_type": "code",
   "execution_count": 7,
   "id": "07bb6eef-21b1-455b-bffe-56c235ca3e5e",
   "metadata": {},
   "outputs": [
    {
     "name": "stdout",
     "output_type": "stream",
     "text": [
      "  name  marks\n",
      "0    A     20\n",
      "1    B     35\n",
      "2    B     38\n",
      "3    B     42\n"
     ]
    }
   ],
   "source": [
    "q1 = '''SELECT name,marks FROM df WHERE marks < 35 OR name ='B'; '''\n",
    "print(ps.sqldf(q1,locals()))"
   ]
  },
  {
   "cell_type": "code",
   "execution_count": 8,
   "id": "6438378d-785c-46ac-ba29-b62623b7e698",
   "metadata": {},
   "outputs": [
    {
     "data": {
      "text/html": [
       "<div>\n",
       "<style scoped>\n",
       "    .dataframe tbody tr th:only-of-type {\n",
       "        vertical-align: middle;\n",
       "    }\n",
       "\n",
       "    .dataframe tbody tr th {\n",
       "        vertical-align: top;\n",
       "    }\n",
       "\n",
       "    .dataframe thead th {\n",
       "        text-align: right;\n",
       "    }\n",
       "</style>\n",
       "<table border=\"1\" class=\"dataframe\">\n",
       "  <thead>\n",
       "    <tr style=\"text-align: right;\">\n",
       "      <th></th>\n",
       "      <th>name</th>\n",
       "      <th>marks</th>\n",
       "    </tr>\n",
       "  </thead>\n",
       "  <tbody>\n",
       "    <tr>\n",
       "      <th>1</th>\n",
       "      <td>A</td>\n",
       "      <td>20</td>\n",
       "    </tr>\n",
       "    <tr>\n",
       "      <th>3</th>\n",
       "      <td>B</td>\n",
       "      <td>35</td>\n",
       "    </tr>\n",
       "    <tr>\n",
       "      <th>4</th>\n",
       "      <td>B</td>\n",
       "      <td>38</td>\n",
       "    </tr>\n",
       "    <tr>\n",
       "      <th>5</th>\n",
       "      <td>B</td>\n",
       "      <td>42</td>\n",
       "    </tr>\n",
       "  </tbody>\n",
       "</table>\n",
       "</div>"
      ],
      "text/plain": [
       "  name  marks\n",
       "1    A     20\n",
       "3    B     35\n",
       "4    B     38\n",
       "5    B     42"
      ]
     },
     "execution_count": 8,
     "metadata": {},
     "output_type": "execute_result"
    }
   ],
   "source": [
    "df.loc[(df['marks'] < 35) | (df['name'] == 'B'), ['name', 'marks']]\n"
   ]
  },
  {
   "cell_type": "markdown",
   "id": "2832f8fc-256e-42a7-8aa1-b58a1839ec76",
   "metadata": {},
   "source": [
    "## SELECT - WHERE - IN clauses\n",
    "`\n",
    "SELECT name,marks FROM df WHERE marks in (35,40,42,91);\n",
    "`"
   ]
  },
  {
   "cell_type": "code",
   "execution_count": 9,
   "id": "0b969221-e467-45f5-8f6f-2ce05b502450",
   "metadata": {},
   "outputs": [
    {
     "name": "stdout",
     "output_type": "stream",
     "text": [
      "  name  marks\n",
      "0    A     91\n",
      "1    A     91\n",
      "2    B     35\n",
      "3    B     42\n",
      "4    C     91\n"
     ]
    }
   ],
   "source": [
    "q1 = ''' SELECT name,marks \n",
    "         FROM df \n",
    "         WHERE marks IN (35,40,42,91)'''\n",
    "print(ps.sqldf(q1,locals()))"
   ]
  },
  {
   "cell_type": "code",
   "execution_count": 10,
   "id": "b8cd842b-c8a4-4080-9cdd-7182b3fc89fb",
   "metadata": {},
   "outputs": [
    {
     "data": {
      "text/html": [
       "<div>\n",
       "<style scoped>\n",
       "    .dataframe tbody tr th:only-of-type {\n",
       "        vertical-align: middle;\n",
       "    }\n",
       "\n",
       "    .dataframe tbody tr th {\n",
       "        vertical-align: top;\n",
       "    }\n",
       "\n",
       "    .dataframe thead th {\n",
       "        text-align: right;\n",
       "    }\n",
       "</style>\n",
       "<table border=\"1\" class=\"dataframe\">\n",
       "  <thead>\n",
       "    <tr style=\"text-align: right;\">\n",
       "      <th></th>\n",
       "      <th>name</th>\n",
       "      <th>marks</th>\n",
       "    </tr>\n",
       "  </thead>\n",
       "  <tbody>\n",
       "    <tr>\n",
       "      <th>0</th>\n",
       "      <td>A</td>\n",
       "      <td>91</td>\n",
       "    </tr>\n",
       "    <tr>\n",
       "      <th>2</th>\n",
       "      <td>A</td>\n",
       "      <td>91</td>\n",
       "    </tr>\n",
       "    <tr>\n",
       "      <th>3</th>\n",
       "      <td>B</td>\n",
       "      <td>35</td>\n",
       "    </tr>\n",
       "    <tr>\n",
       "      <th>5</th>\n",
       "      <td>B</td>\n",
       "      <td>42</td>\n",
       "    </tr>\n",
       "    <tr>\n",
       "      <th>6</th>\n",
       "      <td>C</td>\n",
       "      <td>91</td>\n",
       "    </tr>\n",
       "  </tbody>\n",
       "</table>\n",
       "</div>"
      ],
      "text/plain": [
       "  name  marks\n",
       "0    A     91\n",
       "2    A     91\n",
       "3    B     35\n",
       "5    B     42\n",
       "6    C     91"
      ]
     },
     "execution_count": 10,
     "metadata": {},
     "output_type": "execute_result"
    }
   ],
   "source": [
    "df.loc[df['marks'].isin([35,40,42,91]),['name','marks']]"
   ]
  },
  {
   "cell_type": "markdown",
   "id": "987fcff7-33e1-4409-a35d-fcb81fce6f37",
   "metadata": {},
   "source": [
    "##  Arithmetic operation with in SELECT  Clause\n",
    "`SELECT name,marks, marks*2 as newMarks\n",
    "FROM df ;\n",
    "`"
   ]
  },
  {
   "cell_type": "code",
   "execution_count": 11,
   "id": "ef1369b5-54d4-49bc-9f62-2ae862e80040",
   "metadata": {},
   "outputs": [
    {
     "name": "stdout",
     "output_type": "stream",
     "text": [
      "  name  marks  newMarks\n",
      "0    A     91       182\n",
      "1    A     20        40\n",
      "2    A     91       182\n",
      "3    B     35        70\n",
      "4    B     38        76\n",
      "5    B     42        84\n",
      "6    C     91       182\n",
      "7    C     38        76\n",
      "8    C     90       180\n"
     ]
    }
   ],
   "source": [
    "q1 = ''' SELECT name,marks, marks*2 as newMarks\n",
    "         FROM df '''\n",
    "print(ps.sqldf(q1,locals()))\n",
    "\n"
   ]
  },
  {
   "cell_type": "code",
   "execution_count": 12,
   "id": "c453f04a-a512-47ba-932f-e9c08967c8a7",
   "metadata": {},
   "outputs": [
    {
     "name": "stdout",
     "output_type": "stream",
     "text": [
      "  name  marks  newMarks\n",
      "0    A     91       182\n",
      "1    A     20        40\n",
      "2    A     91       182\n",
      "3    B     35        70\n",
      "4    B     38        76\n",
      "5    B     42        84\n",
      "6    C     91       182\n",
      "7    C     38        76\n",
      "8    C     90       180\n"
     ]
    }
   ],
   "source": [
    "df['newMarks']= df['marks'] * 2\n",
    "\n",
    "print(df[['name','marks','newMarks']])\n",
    "#dropping newMarks column\n",
    "df.drop('newMarks',axis=1,inplace=True)"
   ]
  },
  {
   "cell_type": "markdown",
   "id": "ead66757-6404-48f8-a679-df42ccfe72bf",
   "metadata": {},
   "source": [
    "## SELECT - WHERE with NULL \n",
    "`\n",
    "SELECT name,marks FROM df2 WHERE marks IS NULL;\n",
    "`"
   ]
  },
  {
   "cell_type": "code",
   "execution_count": 13,
   "id": "cf98cd09-6be8-4840-8f02-d447e89e79aa",
   "metadata": {},
   "outputs": [
    {
     "data": {
      "text/html": [
       "<div>\n",
       "<style scoped>\n",
       "    .dataframe tbody tr th:only-of-type {\n",
       "        vertical-align: middle;\n",
       "    }\n",
       "\n",
       "    .dataframe tbody tr th {\n",
       "        vertical-align: top;\n",
       "    }\n",
       "\n",
       "    .dataframe thead th {\n",
       "        text-align: right;\n",
       "    }\n",
       "</style>\n",
       "<table border=\"1\" class=\"dataframe\">\n",
       "  <thead>\n",
       "    <tr style=\"text-align: right;\">\n",
       "      <th></th>\n",
       "      <th>name</th>\n",
       "      <th>subject</th>\n",
       "      <th>marks</th>\n",
       "    </tr>\n",
       "  </thead>\n",
       "  <tbody>\n",
       "    <tr>\n",
       "      <th>0</th>\n",
       "      <td>A</td>\n",
       "      <td>Maths</td>\n",
       "      <td>91.0</td>\n",
       "    </tr>\n",
       "    <tr>\n",
       "      <th>1</th>\n",
       "      <td>A</td>\n",
       "      <td>science</td>\n",
       "      <td>20.0</td>\n",
       "    </tr>\n",
       "    <tr>\n",
       "      <th>2</th>\n",
       "      <td>A</td>\n",
       "      <td>social</td>\n",
       "      <td>NaN</td>\n",
       "    </tr>\n",
       "    <tr>\n",
       "      <th>3</th>\n",
       "      <td>B</td>\n",
       "      <td>Maths</td>\n",
       "      <td>35.0</td>\n",
       "    </tr>\n",
       "    <tr>\n",
       "      <th>4</th>\n",
       "      <td>B</td>\n",
       "      <td>science</td>\n",
       "      <td>38.0</td>\n",
       "    </tr>\n",
       "    <tr>\n",
       "      <th>5</th>\n",
       "      <td>B</td>\n",
       "      <td>social</td>\n",
       "      <td>42.0</td>\n",
       "    </tr>\n",
       "    <tr>\n",
       "      <th>6</th>\n",
       "      <td>C</td>\n",
       "      <td>Maths</td>\n",
       "      <td>NaN</td>\n",
       "    </tr>\n",
       "    <tr>\n",
       "      <th>7</th>\n",
       "      <td>C</td>\n",
       "      <td>science</td>\n",
       "      <td>38.0</td>\n",
       "    </tr>\n",
       "    <tr>\n",
       "      <th>8</th>\n",
       "      <td>C</td>\n",
       "      <td>social</td>\n",
       "      <td>90.0</td>\n",
       "    </tr>\n",
       "  </tbody>\n",
       "</table>\n",
       "</div>"
      ],
      "text/plain": [
       "  name  subject  marks\n",
       "0    A    Maths   91.0\n",
       "1    A  science   20.0\n",
       "2    A   social    NaN\n",
       "3    B    Maths   35.0\n",
       "4    B  science   38.0\n",
       "5    B   social   42.0\n",
       "6    C    Maths    NaN\n",
       "7    C  science   38.0\n",
       "8    C   social   90.0"
      ]
     },
     "execution_count": 13,
     "metadata": {},
     "output_type": "execute_result"
    }
   ],
   "source": [
    "d2 = { 'name': ['A','A','A','B','B','B','C','C','C'],\n",
    "       'subject': ['Maths','science','social','Maths','science','social','Maths','science','social'],\n",
    "\t\t'marks': [91,20,np.nan,35,38,42,np.nan,38,90]}\n",
    "df2 = pd.DataFrame(d2)\n",
    "df2"
   ]
  },
  {
   "cell_type": "code",
   "execution_count": 14,
   "id": "5f656c72-c9f1-45d9-a571-877060e285b8",
   "metadata": {},
   "outputs": [
    {
     "data": {
      "text/html": [
       "<div>\n",
       "<style scoped>\n",
       "    .dataframe tbody tr th:only-of-type {\n",
       "        vertical-align: middle;\n",
       "    }\n",
       "\n",
       "    .dataframe tbody tr th {\n",
       "        vertical-align: top;\n",
       "    }\n",
       "\n",
       "    .dataframe thead th {\n",
       "        text-align: right;\n",
       "    }\n",
       "</style>\n",
       "<table border=\"1\" class=\"dataframe\">\n",
       "  <thead>\n",
       "    <tr style=\"text-align: right;\">\n",
       "      <th></th>\n",
       "      <th>name</th>\n",
       "      <th>subject</th>\n",
       "      <th>marks</th>\n",
       "    </tr>\n",
       "  </thead>\n",
       "  <tbody>\n",
       "    <tr>\n",
       "      <th>0</th>\n",
       "      <td>A</td>\n",
       "      <td>social</td>\n",
       "      <td>None</td>\n",
       "    </tr>\n",
       "    <tr>\n",
       "      <th>1</th>\n",
       "      <td>C</td>\n",
       "      <td>Maths</td>\n",
       "      <td>None</td>\n",
       "    </tr>\n",
       "  </tbody>\n",
       "</table>\n",
       "</div>"
      ],
      "text/plain": [
       "  name subject marks\n",
       "0    A  social  None\n",
       "1    C   Maths  None"
      ]
     },
     "execution_count": 14,
     "metadata": {},
     "output_type": "execute_result"
    }
   ],
   "source": [
    "q1 = ''' SELECT * \n",
    "         FROM df2 \n",
    "         WHERE marks IS NULL;'''\n",
    "ps.sqldf(q1,locals())"
   ]
  },
  {
   "cell_type": "code",
   "execution_count": 15,
   "id": "e39759ec-d236-47a6-b12e-1f0d3e7a7921",
   "metadata": {
    "scrolled": true
   },
   "outputs": [
    {
     "data": {
      "text/html": [
       "<div>\n",
       "<style scoped>\n",
       "    .dataframe tbody tr th:only-of-type {\n",
       "        vertical-align: middle;\n",
       "    }\n",
       "\n",
       "    .dataframe tbody tr th {\n",
       "        vertical-align: top;\n",
       "    }\n",
       "\n",
       "    .dataframe thead th {\n",
       "        text-align: right;\n",
       "    }\n",
       "</style>\n",
       "<table border=\"1\" class=\"dataframe\">\n",
       "  <thead>\n",
       "    <tr style=\"text-align: right;\">\n",
       "      <th></th>\n",
       "      <th>name</th>\n",
       "      <th>subject</th>\n",
       "      <th>marks</th>\n",
       "    </tr>\n",
       "  </thead>\n",
       "  <tbody>\n",
       "    <tr>\n",
       "      <th>2</th>\n",
       "      <td>A</td>\n",
       "      <td>social</td>\n",
       "      <td>NaN</td>\n",
       "    </tr>\n",
       "    <tr>\n",
       "      <th>6</th>\n",
       "      <td>C</td>\n",
       "      <td>Maths</td>\n",
       "      <td>NaN</td>\n",
       "    </tr>\n",
       "  </tbody>\n",
       "</table>\n",
       "</div>"
      ],
      "text/plain": [
       "  name subject  marks\n",
       "2    A  social    NaN\n",
       "6    C   Maths    NaN"
      ]
     },
     "execution_count": 15,
     "metadata": {},
     "output_type": "execute_result"
    }
   ],
   "source": [
    "df2[df2['marks'].isna()]"
   ]
  },
  {
   "cell_type": "markdown",
   "id": "17a32e5e-6082-4839-a70f-47ce5ee5583e",
   "metadata": {},
   "source": [
    "## JOINS"
   ]
  },
  {
   "cell_type": "code",
   "execution_count": 16,
   "id": "0cc04161-4958-46bf-bf64-e3c29e6634da",
   "metadata": {},
   "outputs": [
    {
     "name": "stdout",
     "output_type": "stream",
     "text": [
      "   id val1\n",
      "0   1    a\n",
      "1   2    b\n",
      "2   3    c\n",
      "3   4    d\n",
      "\n",
      "   id val1\n",
      "0   1    p\n",
      "1   2    q\n",
      "2   5    r\n",
      "3   6    s\n"
     ]
    }
   ],
   "source": [
    "# Creating Dictionary\n",
    "d = {'id': [1, 2, 3, 4],\n",
    "\t'val1': ['a', 'b', 'c', 'd']}\n",
    "\n",
    "a = pd.DataFrame(d)\n",
    "\n",
    "# Creating dictionary\n",
    "d = {'id': [1, 2, 5, 6],\n",
    "\t'val1': ['p', 'q', 'r', 's']}\n",
    "b = pd.DataFrame(d)\n",
    "\n",
    "print(a)\n",
    "print()\n",
    "print(b)"
   ]
  },
  {
   "cell_type": "markdown",
   "id": "24340917-fd59-4b66-ac3d-8151eb8057ee",
   "metadata": {},
   "source": [
    "### Inner Join\n",
    "`SELECT a.*,b.* \n",
    " FROM a\n",
    " INNER JOIN b \n",
    "  on a.id=b.id;\n",
    "`"
   ]
  },
  {
   "cell_type": "code",
   "execution_count": 17,
   "id": "58dbbb51-8852-4dd3-96f1-21dc683542ea",
   "metadata": {},
   "outputs": [
    {
     "data": {
      "text/html": [
       "<div>\n",
       "<style scoped>\n",
       "    .dataframe tbody tr th:only-of-type {\n",
       "        vertical-align: middle;\n",
       "    }\n",
       "\n",
       "    .dataframe tbody tr th {\n",
       "        vertical-align: top;\n",
       "    }\n",
       "\n",
       "    .dataframe thead th {\n",
       "        text-align: right;\n",
       "    }\n",
       "</style>\n",
       "<table border=\"1\" class=\"dataframe\">\n",
       "  <thead>\n",
       "    <tr style=\"text-align: right;\">\n",
       "      <th></th>\n",
       "      <th>id</th>\n",
       "      <th>val1</th>\n",
       "      <th>val1</th>\n",
       "    </tr>\n",
       "  </thead>\n",
       "  <tbody>\n",
       "    <tr>\n",
       "      <th>0</th>\n",
       "      <td>1</td>\n",
       "      <td>a</td>\n",
       "      <td>p</td>\n",
       "    </tr>\n",
       "    <tr>\n",
       "      <th>1</th>\n",
       "      <td>2</td>\n",
       "      <td>b</td>\n",
       "      <td>q</td>\n",
       "    </tr>\n",
       "  </tbody>\n",
       "</table>\n",
       "</div>"
      ],
      "text/plain": [
       "   id val1 val1\n",
       "0   1    a    p\n",
       "1   2    b    q"
      ]
     },
     "execution_count": 17,
     "metadata": {},
     "output_type": "execute_result"
    }
   ],
   "source": [
    "q1 = ''' SELECT a.*,b.val1 \n",
    "         FROM a\n",
    "         INNER JOIN b \n",
    "          on a.id=b.id;\n",
    "          '''\n",
    "ps.sqldf(q1,locals())"
   ]
  },
  {
   "cell_type": "code",
   "execution_count": 18,
   "id": "f132126d-0c24-421e-8789-6ccd7e6ea5f9",
   "metadata": {},
   "outputs": [
    {
     "data": {
      "text/html": [
       "<div>\n",
       "<style scoped>\n",
       "    .dataframe tbody tr th:only-of-type {\n",
       "        vertical-align: middle;\n",
       "    }\n",
       "\n",
       "    .dataframe tbody tr th {\n",
       "        vertical-align: top;\n",
       "    }\n",
       "\n",
       "    .dataframe thead th {\n",
       "        text-align: right;\n",
       "    }\n",
       "</style>\n",
       "<table border=\"1\" class=\"dataframe\">\n",
       "  <thead>\n",
       "    <tr style=\"text-align: right;\">\n",
       "      <th></th>\n",
       "      <th>id</th>\n",
       "      <th>val1_x</th>\n",
       "      <th>val1_y</th>\n",
       "    </tr>\n",
       "  </thead>\n",
       "  <tbody>\n",
       "    <tr>\n",
       "      <th>0</th>\n",
       "      <td>1</td>\n",
       "      <td>a</td>\n",
       "      <td>p</td>\n",
       "    </tr>\n",
       "    <tr>\n",
       "      <th>1</th>\n",
       "      <td>2</td>\n",
       "      <td>b</td>\n",
       "      <td>q</td>\n",
       "    </tr>\n",
       "  </tbody>\n",
       "</table>\n",
       "</div>"
      ],
      "text/plain": [
       "   id val1_x val1_y\n",
       "0   1      a      p\n",
       "1   2      b      q"
      ]
     },
     "execution_count": 18,
     "metadata": {},
     "output_type": "execute_result"
    }
   ],
   "source": [
    "# inner join\n",
    "pd.merge(a, b, on='id', how='inner')\n"
   ]
  },
  {
   "cell_type": "markdown",
   "id": "5d6984b2-dc73-4733-868c-449317b81723",
   "metadata": {},
   "source": [
    "### LEFT Join\n",
    "`SELECT a.*,b.* \n",
    " FROM a\n",
    " LEFT JOIN b \n",
    "  on a.id=b.id;\n",
    "`"
   ]
  },
  {
   "cell_type": "code",
   "execution_count": 19,
   "id": "e7178bbd-3d99-47b4-b06f-4abff2232513",
   "metadata": {},
   "outputs": [
    {
     "data": {
      "text/html": [
       "<div>\n",
       "<style scoped>\n",
       "    .dataframe tbody tr th:only-of-type {\n",
       "        vertical-align: middle;\n",
       "    }\n",
       "\n",
       "    .dataframe tbody tr th {\n",
       "        vertical-align: top;\n",
       "    }\n",
       "\n",
       "    .dataframe thead th {\n",
       "        text-align: right;\n",
       "    }\n",
       "</style>\n",
       "<table border=\"1\" class=\"dataframe\">\n",
       "  <thead>\n",
       "    <tr style=\"text-align: right;\">\n",
       "      <th></th>\n",
       "      <th>id</th>\n",
       "      <th>val1</th>\n",
       "      <th>id</th>\n",
       "      <th>val1</th>\n",
       "    </tr>\n",
       "  </thead>\n",
       "  <tbody>\n",
       "    <tr>\n",
       "      <th>0</th>\n",
       "      <td>1</td>\n",
       "      <td>a</td>\n",
       "      <td>1.0</td>\n",
       "      <td>p</td>\n",
       "    </tr>\n",
       "    <tr>\n",
       "      <th>1</th>\n",
       "      <td>2</td>\n",
       "      <td>b</td>\n",
       "      <td>2.0</td>\n",
       "      <td>q</td>\n",
       "    </tr>\n",
       "    <tr>\n",
       "      <th>2</th>\n",
       "      <td>3</td>\n",
       "      <td>c</td>\n",
       "      <td>NaN</td>\n",
       "      <td>None</td>\n",
       "    </tr>\n",
       "    <tr>\n",
       "      <th>3</th>\n",
       "      <td>4</td>\n",
       "      <td>d</td>\n",
       "      <td>NaN</td>\n",
       "      <td>None</td>\n",
       "    </tr>\n",
       "  </tbody>\n",
       "</table>\n",
       "</div>"
      ],
      "text/plain": [
       "   id val1   id  val1\n",
       "0   1    a  1.0     p\n",
       "1   2    b  2.0     q\n",
       "2   3    c  NaN  None\n",
       "3   4    d  NaN  None"
      ]
     },
     "execution_count": 19,
     "metadata": {},
     "output_type": "execute_result"
    }
   ],
   "source": [
    "q1 = ''' SELECT a.*,b.*\n",
    "         FROM a\n",
    "         LEFT JOIN b \n",
    "          on a.id=b.id;\n",
    "          '''\n",
    "ps.sqldf(q1,locals())"
   ]
  },
  {
   "cell_type": "code",
   "execution_count": 20,
   "id": "49a4e7a7-b116-4660-b6be-25ccc7e3d22e",
   "metadata": {},
   "outputs": [
    {
     "data": {
      "text/html": [
       "<div>\n",
       "<style scoped>\n",
       "    .dataframe tbody tr th:only-of-type {\n",
       "        vertical-align: middle;\n",
       "    }\n",
       "\n",
       "    .dataframe tbody tr th {\n",
       "        vertical-align: top;\n",
       "    }\n",
       "\n",
       "    .dataframe thead th {\n",
       "        text-align: right;\n",
       "    }\n",
       "</style>\n",
       "<table border=\"1\" class=\"dataframe\">\n",
       "  <thead>\n",
       "    <tr style=\"text-align: right;\">\n",
       "      <th></th>\n",
       "      <th>id</th>\n",
       "      <th>val1_x</th>\n",
       "      <th>val1_y</th>\n",
       "    </tr>\n",
       "  </thead>\n",
       "  <tbody>\n",
       "    <tr>\n",
       "      <th>0</th>\n",
       "      <td>1</td>\n",
       "      <td>a</td>\n",
       "      <td>p</td>\n",
       "    </tr>\n",
       "    <tr>\n",
       "      <th>1</th>\n",
       "      <td>2</td>\n",
       "      <td>b</td>\n",
       "      <td>q</td>\n",
       "    </tr>\n",
       "    <tr>\n",
       "      <th>2</th>\n",
       "      <td>3</td>\n",
       "      <td>c</td>\n",
       "      <td>NaN</td>\n",
       "    </tr>\n",
       "    <tr>\n",
       "      <th>3</th>\n",
       "      <td>4</td>\n",
       "      <td>d</td>\n",
       "      <td>NaN</td>\n",
       "    </tr>\n",
       "  </tbody>\n",
       "</table>\n",
       "</div>"
      ],
      "text/plain": [
       "   id val1_x val1_y\n",
       "0   1      a      p\n",
       "1   2      b      q\n",
       "2   3      c    NaN\n",
       "3   4      d    NaN"
      ]
     },
     "execution_count": 20,
     "metadata": {},
     "output_type": "execute_result"
    }
   ],
   "source": [
    "# left outer join\n",
    "pd.merge(a, b, on='id', how='left')"
   ]
  },
  {
   "cell_type": "markdown",
   "id": "3964b2ae-40f2-46ac-9039-a9b0858b3dd0",
   "metadata": {},
   "source": [
    "### RIGHT Join\n",
    "`SELECT a.*,b.* \n",
    " FROM a\n",
    " RIGHT JOIN b \n",
    "  on a.id=b.id;\n",
    "`"
   ]
  },
  {
   "cell_type": "code",
   "execution_count": 21,
   "id": "736b387b-1b3e-4879-b307-3835c2da3bf6",
   "metadata": {},
   "outputs": [],
   "source": [
    "q1 = ''' SELECT a.*,b.*\n",
    "         FROM a\n",
    "         RIGHT JOIN b \n",
    "          on a.id=b.id;\n",
    "          '''\n",
    "# PandaSQLException: (sqlite3.OperationalError) RIGHT and FULL OUTER JOINs are not currently supported"
   ]
  },
  {
   "cell_type": "code",
   "execution_count": 22,
   "id": "6af94f1f-3f6a-4619-8c9d-29e4810ac93b",
   "metadata": {
    "scrolled": true
   },
   "outputs": [
    {
     "data": {
      "text/html": [
       "<div>\n",
       "<style scoped>\n",
       "    .dataframe tbody tr th:only-of-type {\n",
       "        vertical-align: middle;\n",
       "    }\n",
       "\n",
       "    .dataframe tbody tr th {\n",
       "        vertical-align: top;\n",
       "    }\n",
       "\n",
       "    .dataframe thead th {\n",
       "        text-align: right;\n",
       "    }\n",
       "</style>\n",
       "<table border=\"1\" class=\"dataframe\">\n",
       "  <thead>\n",
       "    <tr style=\"text-align: right;\">\n",
       "      <th></th>\n",
       "      <th>id</th>\n",
       "      <th>val1_x</th>\n",
       "      <th>val1_y</th>\n",
       "    </tr>\n",
       "  </thead>\n",
       "  <tbody>\n",
       "    <tr>\n",
       "      <th>0</th>\n",
       "      <td>1</td>\n",
       "      <td>a</td>\n",
       "      <td>p</td>\n",
       "    </tr>\n",
       "    <tr>\n",
       "      <th>1</th>\n",
       "      <td>2</td>\n",
       "      <td>b</td>\n",
       "      <td>q</td>\n",
       "    </tr>\n",
       "    <tr>\n",
       "      <th>2</th>\n",
       "      <td>5</td>\n",
       "      <td>NaN</td>\n",
       "      <td>r</td>\n",
       "    </tr>\n",
       "    <tr>\n",
       "      <th>3</th>\n",
       "      <td>6</td>\n",
       "      <td>NaN</td>\n",
       "      <td>s</td>\n",
       "    </tr>\n",
       "  </tbody>\n",
       "</table>\n",
       "</div>"
      ],
      "text/plain": [
       "   id val1_x val1_y\n",
       "0   1      a      p\n",
       "1   2      b      q\n",
       "2   5    NaN      r\n",
       "3   6    NaN      s"
      ]
     },
     "execution_count": 22,
     "metadata": {},
     "output_type": "execute_result"
    }
   ],
   "source": [
    "# right outer join\n",
    "pd.merge(a, b, on='id', how='right')"
   ]
  },
  {
   "cell_type": "markdown",
   "id": "cf563a17-ee11-4603-954e-b8ae7f595b38",
   "metadata": {},
   "source": [
    "### FULL OUTER Join\n",
    "`SELECT a.*,b.* \n",
    " FROM a\n",
    " FULL JOIN b \n",
    "  on a.id=b.id;\n",
    "`"
   ]
  },
  {
   "cell_type": "code",
   "execution_count": 23,
   "id": "34e585d7-99fc-49b6-85a4-a43a75ef2af0",
   "metadata": {},
   "outputs": [],
   "source": [
    "q1 = ''' SELECT a.*,b.*\n",
    "         FROM a\n",
    "         FULL JOIN b \n",
    "          on a.id=b.id;\n",
    "          '''\n",
    "# PandaSQLException: (sqlite3.OperationalError) RIGHT and FULL OUTER JOINs are not currently supported"
   ]
  },
  {
   "cell_type": "code",
   "execution_count": 24,
   "id": "f2b9712e-4b30-46b5-b868-c6102908aec7",
   "metadata": {},
   "outputs": [
    {
     "data": {
      "text/html": [
       "<div>\n",
       "<style scoped>\n",
       "    .dataframe tbody tr th:only-of-type {\n",
       "        vertical-align: middle;\n",
       "    }\n",
       "\n",
       "    .dataframe tbody tr th {\n",
       "        vertical-align: top;\n",
       "    }\n",
       "\n",
       "    .dataframe thead th {\n",
       "        text-align: right;\n",
       "    }\n",
       "</style>\n",
       "<table border=\"1\" class=\"dataframe\">\n",
       "  <thead>\n",
       "    <tr style=\"text-align: right;\">\n",
       "      <th></th>\n",
       "      <th>id</th>\n",
       "      <th>val1_x</th>\n",
       "      <th>val1_y</th>\n",
       "    </tr>\n",
       "  </thead>\n",
       "  <tbody>\n",
       "    <tr>\n",
       "      <th>0</th>\n",
       "      <td>1</td>\n",
       "      <td>a</td>\n",
       "      <td>p</td>\n",
       "    </tr>\n",
       "    <tr>\n",
       "      <th>1</th>\n",
       "      <td>2</td>\n",
       "      <td>b</td>\n",
       "      <td>q</td>\n",
       "    </tr>\n",
       "    <tr>\n",
       "      <th>2</th>\n",
       "      <td>3</td>\n",
       "      <td>c</td>\n",
       "      <td>NaN</td>\n",
       "    </tr>\n",
       "    <tr>\n",
       "      <th>3</th>\n",
       "      <td>4</td>\n",
       "      <td>d</td>\n",
       "      <td>NaN</td>\n",
       "    </tr>\n",
       "    <tr>\n",
       "      <th>4</th>\n",
       "      <td>5</td>\n",
       "      <td>NaN</td>\n",
       "      <td>r</td>\n",
       "    </tr>\n",
       "    <tr>\n",
       "      <th>5</th>\n",
       "      <td>6</td>\n",
       "      <td>NaN</td>\n",
       "      <td>s</td>\n",
       "    </tr>\n",
       "  </tbody>\n",
       "</table>\n",
       "</div>"
      ],
      "text/plain": [
       "   id val1_x val1_y\n",
       "0   1      a      p\n",
       "1   2      b      q\n",
       "2   3      c    NaN\n",
       "3   4      d    NaN\n",
       "4   5    NaN      r\n",
       "5   6    NaN      s"
      ]
     },
     "execution_count": 24,
     "metadata": {},
     "output_type": "execute_result"
    }
   ],
   "source": [
    "# full outer join\n",
    "pd.merge(a, b, on='id', how='outer')"
   ]
  },
  {
   "cell_type": "markdown",
   "id": "e081a246-bd66-4aba-8461-8cd2575f96a5",
   "metadata": {},
   "source": [
    "### CROSS Join - joining 2 or More table without any matching column is called as cross join\n",
    "`SELECT a.*,b.* \n",
    " FROM a, b;\n",
    "`"
   ]
  },
  {
   "cell_type": "code",
   "execution_count": 25,
   "id": "84935692-14f2-4a0d-b5c6-f763b0c5eae8",
   "metadata": {},
   "outputs": [
    {
     "name": "stdout",
     "output_type": "stream",
     "text": [
      "    id val1  id val1\n",
      "0    1    a   1    p\n",
      "1    1    a   2    q\n",
      "2    1    a   5    r\n",
      "3    1    a   6    s\n",
      "4    2    b   1    p\n",
      "5    2    b   2    q\n",
      "6    2    b   5    r\n",
      "7    2    b   6    s\n",
      "8    3    c   1    p\n",
      "9    3    c   2    q\n",
      "10   3    c   5    r\n",
      "11   3    c   6    s\n",
      "12   4    d   1    p\n",
      "13   4    d   2    q\n",
      "14   4    d   5    r\n",
      "15   4    d   6    s\n"
     ]
    }
   ],
   "source": [
    "q1 = ''' SELECT a.*,b.*\n",
    "         FROM a, b ;\n",
    "          '''\n",
    "print(ps.sqldf(q1,locals()))"
   ]
  },
  {
   "cell_type": "code",
   "execution_count": 26,
   "id": "ea8cf42d-8282-42da-a813-b40b375b9e7d",
   "metadata": {},
   "outputs": [
    {
     "name": "stdout",
     "output_type": "stream",
     "text": [
      "    id_x val1_x  id_y val1_y\n",
      "0      1      a     1      p\n",
      "1      1      a     2      q\n",
      "2      1      a     5      r\n",
      "3      1      a     6      s\n",
      "4      2      b     1      p\n",
      "5      2      b     2      q\n",
      "6      2      b     5      r\n",
      "7      2      b     6      s\n",
      "8      3      c     1      p\n",
      "9      3      c     2      q\n",
      "10     3      c     5      r\n",
      "11     3      c     6      s\n",
      "12     4      d     1      p\n",
      "13     4      d     2      q\n",
      "14     4      d     5      r\n",
      "15     4      d     6      s\n"
     ]
    }
   ],
   "source": [
    "# cross join\n",
    "print(pd.merge(a, b, how='cross'))"
   ]
  },
  {
   "cell_type": "markdown",
   "id": "c20c2fe2-1a13-4f4e-8854-fe574a053734",
   "metadata": {},
   "source": [
    "## Horizontal Concatenation - Not present in SQL"
   ]
  },
  {
   "cell_type": "code",
   "execution_count": 27,
   "id": "b2787a0b-a3ad-44a6-8802-57fcc711be55",
   "metadata": {},
   "outputs": [
    {
     "data": {
      "text/html": [
       "<div>\n",
       "<style scoped>\n",
       "    .dataframe tbody tr th:only-of-type {\n",
       "        vertical-align: middle;\n",
       "    }\n",
       "\n",
       "    .dataframe tbody tr th {\n",
       "        vertical-align: top;\n",
       "    }\n",
       "\n",
       "    .dataframe thead th {\n",
       "        text-align: right;\n",
       "    }\n",
       "</style>\n",
       "<table border=\"1\" class=\"dataframe\">\n",
       "  <thead>\n",
       "    <tr style=\"text-align: right;\">\n",
       "      <th></th>\n",
       "      <th>id_x</th>\n",
       "      <th>val1_x</th>\n",
       "      <th>id_y</th>\n",
       "      <th>val1_y</th>\n",
       "    </tr>\n",
       "  </thead>\n",
       "  <tbody>\n",
       "    <tr>\n",
       "      <th>0</th>\n",
       "      <td>1</td>\n",
       "      <td>a</td>\n",
       "      <td>1</td>\n",
       "      <td>p</td>\n",
       "    </tr>\n",
       "    <tr>\n",
       "      <th>1</th>\n",
       "      <td>2</td>\n",
       "      <td>b</td>\n",
       "      <td>2</td>\n",
       "      <td>q</td>\n",
       "    </tr>\n",
       "    <tr>\n",
       "      <th>2</th>\n",
       "      <td>3</td>\n",
       "      <td>c</td>\n",
       "      <td>5</td>\n",
       "      <td>r</td>\n",
       "    </tr>\n",
       "    <tr>\n",
       "      <th>3</th>\n",
       "      <td>4</td>\n",
       "      <td>d</td>\n",
       "      <td>6</td>\n",
       "      <td>s</td>\n",
       "    </tr>\n",
       "  </tbody>\n",
       "</table>\n",
       "</div>"
      ],
      "text/plain": [
       "   id_x val1_x  id_y val1_y\n",
       "0     1      a     1      p\n",
       "1     2      b     2      q\n",
       "2     3      c     5      r\n",
       "3     4      d     6      s"
      ]
     },
     "execution_count": 27,
     "metadata": {},
     "output_type": "execute_result"
    }
   ],
   "source": [
    "# index join\n",
    "pd.merge(a, b, left_index=True, right_index=True)"
   ]
  },
  {
   "cell_type": "code",
   "execution_count": 28,
   "id": "5db8e0ce-4526-4b9b-b0a0-b5da59c5e5e6",
   "metadata": {},
   "outputs": [
    {
     "data": {
      "text/html": [
       "<div>\n",
       "<style scoped>\n",
       "    .dataframe tbody tr th:only-of-type {\n",
       "        vertical-align: middle;\n",
       "    }\n",
       "\n",
       "    .dataframe tbody tr th {\n",
       "        vertical-align: top;\n",
       "    }\n",
       "\n",
       "    .dataframe thead th {\n",
       "        text-align: right;\n",
       "    }\n",
       "</style>\n",
       "<table border=\"1\" class=\"dataframe\">\n",
       "  <thead>\n",
       "    <tr style=\"text-align: right;\">\n",
       "      <th></th>\n",
       "      <th>id</th>\n",
       "      <th>val1</th>\n",
       "      <th>id</th>\n",
       "      <th>val1</th>\n",
       "    </tr>\n",
       "  </thead>\n",
       "  <tbody>\n",
       "    <tr>\n",
       "      <th>0</th>\n",
       "      <td>1</td>\n",
       "      <td>a</td>\n",
       "      <td>1</td>\n",
       "      <td>p</td>\n",
       "    </tr>\n",
       "    <tr>\n",
       "      <th>1</th>\n",
       "      <td>2</td>\n",
       "      <td>b</td>\n",
       "      <td>2</td>\n",
       "      <td>q</td>\n",
       "    </tr>\n",
       "    <tr>\n",
       "      <th>2</th>\n",
       "      <td>3</td>\n",
       "      <td>c</td>\n",
       "      <td>5</td>\n",
       "      <td>r</td>\n",
       "    </tr>\n",
       "    <tr>\n",
       "      <th>3</th>\n",
       "      <td>4</td>\n",
       "      <td>d</td>\n",
       "      <td>6</td>\n",
       "      <td>s</td>\n",
       "    </tr>\n",
       "  </tbody>\n",
       "</table>\n",
       "</div>"
      ],
      "text/plain": [
       "   id val1  id val1\n",
       "0   1    a   1    p\n",
       "1   2    b   2    q\n",
       "2   3    c   5    r\n",
       "3   4    d   6    s"
      ]
     },
     "execution_count": 28,
     "metadata": {},
     "output_type": "execute_result"
    }
   ],
   "source": [
    "pd.concat([a,b],axis='columns')"
   ]
  },
  {
   "cell_type": "markdown",
   "id": "edeff48d-6b0f-438d-947f-d4ad780e2143",
   "metadata": {},
   "source": [
    "## UNION All - Duplicates will be included from result data\n",
    "`SELECT * \n",
    " FROM c\n",
    " UNION ALL\n",
    " SELECT * \n",
    " FROM d\n",
    " ;\n",
    "`"
   ]
  },
  {
   "cell_type": "code",
   "execution_count": 29,
   "id": "d0e4ea89-a8e3-4f9e-ba29-fa39f90d8999",
   "metadata": {},
   "outputs": [],
   "source": [
    "# Creating Dictionary\n",
    "d = {'id': [1, 2,3],\n",
    "\t'val1': ['a', 'b', 'c']}\n",
    "\n",
    "c = pd.DataFrame(d)\n",
    "\n",
    "# Creating dictionary\n",
    "d = {'id': [1, 2,3],\n",
    "\t'val1': ['a', 'b', 'd']}\n",
    "d= pd.DataFrame(d)"
   ]
  },
  {
   "cell_type": "code",
   "execution_count": 30,
   "id": "cce584e2-8fa8-4442-aa7a-0058dec87d15",
   "metadata": {},
   "outputs": [
    {
     "name": "stdout",
     "output_type": "stream",
     "text": [
      "   id val1\n",
      "0   1    a\n",
      "1   2    b\n",
      "2   3    c\n",
      "3   1    a\n",
      "4   2    b\n",
      "5   3    d\n"
     ]
    }
   ],
   "source": [
    "q1 = '''\n",
    " SELECT * \n",
    " FROM c\n",
    " UNION ALL\n",
    " SELECT * \n",
    " FROM d\n",
    "'''\n",
    "print(ps.sqldf(q1,locals()))"
   ]
  },
  {
   "cell_type": "code",
   "execution_count": 31,
   "id": "0d97b7b3-26ee-4313-966b-8d59c9a7c6ba",
   "metadata": {
    "scrolled": true
   },
   "outputs": [
    {
     "data": {
      "text/html": [
       "<div>\n",
       "<style scoped>\n",
       "    .dataframe tbody tr th:only-of-type {\n",
       "        vertical-align: middle;\n",
       "    }\n",
       "\n",
       "    .dataframe tbody tr th {\n",
       "        vertical-align: top;\n",
       "    }\n",
       "\n",
       "    .dataframe thead th {\n",
       "        text-align: right;\n",
       "    }\n",
       "</style>\n",
       "<table border=\"1\" class=\"dataframe\">\n",
       "  <thead>\n",
       "    <tr style=\"text-align: right;\">\n",
       "      <th></th>\n",
       "      <th>id</th>\n",
       "      <th>val1</th>\n",
       "    </tr>\n",
       "  </thead>\n",
       "  <tbody>\n",
       "    <tr>\n",
       "      <th>0</th>\n",
       "      <td>1</td>\n",
       "      <td>a</td>\n",
       "    </tr>\n",
       "    <tr>\n",
       "      <th>1</th>\n",
       "      <td>2</td>\n",
       "      <td>b</td>\n",
       "    </tr>\n",
       "    <tr>\n",
       "      <th>2</th>\n",
       "      <td>3</td>\n",
       "      <td>c</td>\n",
       "    </tr>\n",
       "    <tr>\n",
       "      <th>0</th>\n",
       "      <td>1</td>\n",
       "      <td>a</td>\n",
       "    </tr>\n",
       "    <tr>\n",
       "      <th>1</th>\n",
       "      <td>2</td>\n",
       "      <td>b</td>\n",
       "    </tr>\n",
       "    <tr>\n",
       "      <th>2</th>\n",
       "      <td>3</td>\n",
       "      <td>d</td>\n",
       "    </tr>\n",
       "  </tbody>\n",
       "</table>\n",
       "</div>"
      ],
      "text/plain": [
       "   id val1\n",
       "0   1    a\n",
       "1   2    b\n",
       "2   3    c\n",
       "0   1    a\n",
       "1   2    b\n",
       "2   3    d"
      ]
     },
     "execution_count": 31,
     "metadata": {},
     "output_type": "execute_result"
    }
   ],
   "source": [
    "pd.concat([c,d],axis='index')"
   ]
  },
  {
   "cell_type": "markdown",
   "id": "d3b3f084-f76f-4300-8c6f-71c17bb27cb0",
   "metadata": {},
   "source": [
    "## UNION - Duplicates will be excluded from result data\n",
    "`SELECT * \n",
    " FROM c\n",
    " UNION\n",
    " SELECT * \n",
    " FROM d\n",
    " ;\n",
    "`"
   ]
  },
  {
   "cell_type": "code",
   "execution_count": 32,
   "id": "31f34c24-d501-434f-877e-0de8a60e3834",
   "metadata": {},
   "outputs": [
    {
     "name": "stdout",
     "output_type": "stream",
     "text": [
      "   id val1\n",
      "0   1    a\n",
      "1   2    b\n",
      "2   3    c\n",
      "3   3    d\n"
     ]
    }
   ],
   "source": [
    "q1 = '''\n",
    " SELECT * \n",
    " FROM c\n",
    " UNION \n",
    " SELECT * \n",
    " FROM d\n",
    "'''\n",
    "print(ps.sqldf(q1,locals()))"
   ]
  },
  {
   "cell_type": "code",
   "execution_count": 33,
   "id": "6ef2e57b-e068-465c-bef7-de088d9a7f08",
   "metadata": {
    "scrolled": true
   },
   "outputs": [
    {
     "data": {
      "text/html": [
       "<div>\n",
       "<style scoped>\n",
       "    .dataframe tbody tr th:only-of-type {\n",
       "        vertical-align: middle;\n",
       "    }\n",
       "\n",
       "    .dataframe tbody tr th {\n",
       "        vertical-align: top;\n",
       "    }\n",
       "\n",
       "    .dataframe thead th {\n",
       "        text-align: right;\n",
       "    }\n",
       "</style>\n",
       "<table border=\"1\" class=\"dataframe\">\n",
       "  <thead>\n",
       "    <tr style=\"text-align: right;\">\n",
       "      <th></th>\n",
       "      <th>id</th>\n",
       "      <th>val1</th>\n",
       "    </tr>\n",
       "  </thead>\n",
       "  <tbody>\n",
       "    <tr>\n",
       "      <th>0</th>\n",
       "      <td>1</td>\n",
       "      <td>a</td>\n",
       "    </tr>\n",
       "    <tr>\n",
       "      <th>1</th>\n",
       "      <td>2</td>\n",
       "      <td>b</td>\n",
       "    </tr>\n",
       "    <tr>\n",
       "      <th>2</th>\n",
       "      <td>3</td>\n",
       "      <td>c</td>\n",
       "    </tr>\n",
       "    <tr>\n",
       "      <th>2</th>\n",
       "      <td>3</td>\n",
       "      <td>d</td>\n",
       "    </tr>\n",
       "  </tbody>\n",
       "</table>\n",
       "</div>"
      ],
      "text/plain": [
       "   id val1\n",
       "0   1    a\n",
       "1   2    b\n",
       "2   3    c\n",
       "2   3    d"
      ]
     },
     "execution_count": 33,
     "metadata": {},
     "output_type": "execute_result"
    }
   ],
   "source": [
    "pd.concat([c,d],axis='index').drop_duplicates()"
   ]
  },
  {
   "cell_type": "markdown",
   "id": "83c0f7c7-e7e9-4b80-8c7c-dd8fbc5cb741",
   "metadata": {},
   "source": [
    "## GROUP BY "
   ]
  },
  {
   "cell_type": "code",
   "execution_count": 34,
   "id": "0274949f-efe4-40dd-97af-09f5035c1c12",
   "metadata": {},
   "outputs": [
    {
     "data": {
      "text/html": [
       "<div>\n",
       "<style scoped>\n",
       "    .dataframe tbody tr th:only-of-type {\n",
       "        vertical-align: middle;\n",
       "    }\n",
       "\n",
       "    .dataframe tbody tr th {\n",
       "        vertical-align: top;\n",
       "    }\n",
       "\n",
       "    .dataframe thead th {\n",
       "        text-align: right;\n",
       "    }\n",
       "</style>\n",
       "<table border=\"1\" class=\"dataframe\">\n",
       "  <thead>\n",
       "    <tr style=\"text-align: right;\">\n",
       "      <th></th>\n",
       "      <th>name</th>\n",
       "      <th>subject</th>\n",
       "      <th>marks</th>\n",
       "    </tr>\n",
       "  </thead>\n",
       "  <tbody>\n",
       "    <tr>\n",
       "      <th>0</th>\n",
       "      <td>A</td>\n",
       "      <td>Maths</td>\n",
       "      <td>91</td>\n",
       "    </tr>\n",
       "    <tr>\n",
       "      <th>1</th>\n",
       "      <td>A</td>\n",
       "      <td>science</td>\n",
       "      <td>20</td>\n",
       "    </tr>\n",
       "    <tr>\n",
       "      <th>2</th>\n",
       "      <td>A</td>\n",
       "      <td>social</td>\n",
       "      <td>91</td>\n",
       "    </tr>\n",
       "    <tr>\n",
       "      <th>3</th>\n",
       "      <td>B</td>\n",
       "      <td>Maths</td>\n",
       "      <td>35</td>\n",
       "    </tr>\n",
       "    <tr>\n",
       "      <th>4</th>\n",
       "      <td>B</td>\n",
       "      <td>science</td>\n",
       "      <td>38</td>\n",
       "    </tr>\n",
       "    <tr>\n",
       "      <th>5</th>\n",
       "      <td>B</td>\n",
       "      <td>social</td>\n",
       "      <td>42</td>\n",
       "    </tr>\n",
       "    <tr>\n",
       "      <th>6</th>\n",
       "      <td>C</td>\n",
       "      <td>Maths</td>\n",
       "      <td>91</td>\n",
       "    </tr>\n",
       "    <tr>\n",
       "      <th>7</th>\n",
       "      <td>C</td>\n",
       "      <td>science</td>\n",
       "      <td>38</td>\n",
       "    </tr>\n",
       "    <tr>\n",
       "      <th>8</th>\n",
       "      <td>C</td>\n",
       "      <td>social</td>\n",
       "      <td>90</td>\n",
       "    </tr>\n",
       "  </tbody>\n",
       "</table>\n",
       "</div>"
      ],
      "text/plain": [
       "  name  subject  marks\n",
       "0    A    Maths     91\n",
       "1    A  science     20\n",
       "2    A   social     91\n",
       "3    B    Maths     35\n",
       "4    B  science     38\n",
       "5    B   social     42\n",
       "6    C    Maths     91\n",
       "7    C  science     38\n",
       "8    C   social     90"
      ]
     },
     "execution_count": 34,
     "metadata": {},
     "output_type": "execute_result"
    }
   ],
   "source": [
    "df"
   ]
  },
  {
   "cell_type": "markdown",
   "id": "3d624e30-01c5-4262-af0d-ae3486383acb",
   "metadata": {},
   "source": [
    "`\n",
    "SELECT name,count(*) as no_of_subjects \n",
    " FROM df\n",
    " GROUP BY name\n",
    " `"
   ]
  },
  {
   "cell_type": "code",
   "execution_count": 35,
   "id": "8a50c1be-0ec8-475a-8816-b5f1ab10e899",
   "metadata": {},
   "outputs": [
    {
     "name": "stdout",
     "output_type": "stream",
     "text": [
      "  name  no_of_subjects\n",
      "0    A               3\n",
      "1    B               3\n",
      "2    C               3\n"
     ]
    }
   ],
   "source": [
    "q1 = '''\n",
    " SELECT name,count(*) as no_of_subjects \n",
    " FROM df\n",
    " GROUP BY name\n",
    "'''\n",
    "print(ps.sqldf(q1,locals()))"
   ]
  },
  {
   "cell_type": "code",
   "execution_count": 36,
   "id": "0bcee092-32b8-4a72-b6ce-2e7b7cbadc6a",
   "metadata": {},
   "outputs": [
    {
     "data": {
      "text/plain": [
       "name\n",
       "A    3\n",
       "B    3\n",
       "C    3\n",
       "dtype: int64"
      ]
     },
     "execution_count": 36,
     "metadata": {},
     "output_type": "execute_result"
    }
   ],
   "source": [
    "df.groupby('name').size()"
   ]
  },
  {
   "cell_type": "markdown",
   "id": "82a46616-5dfc-4353-986a-f0db9c787e5e",
   "metadata": {},
   "source": [
    "`\n",
    "SELECT name,count(subject) as no_of_subjects \n",
    " FROM df\n",
    " GROUP BY name\n",
    " `"
   ]
  },
  {
   "cell_type": "code",
   "execution_count": 37,
   "id": "d0d18237-fa67-4c7c-9d30-6b5e3c74b103",
   "metadata": {},
   "outputs": [
    {
     "name": "stdout",
     "output_type": "stream",
     "text": [
      "  name  no_of_subjects\n",
      "0    A               3\n",
      "1    B               3\n",
      "2    C               3\n"
     ]
    }
   ],
   "source": [
    "q1 = '''\n",
    " SELECT name,count(subject) as no_of_subjects \n",
    " FROM df\n",
    " GROUP BY name\n",
    "'''\n",
    "print(ps.sqldf(q1,locals()))"
   ]
  },
  {
   "cell_type": "code",
   "execution_count": 38,
   "id": "d2865820-929a-49c4-b09b-6c914ae11ab1",
   "metadata": {},
   "outputs": [
    {
     "data": {
      "text/plain": [
       "name\n",
       "A    3\n",
       "B    3\n",
       "C    3\n",
       "Name: subject, dtype: int64"
      ]
     },
     "execution_count": 38,
     "metadata": {},
     "output_type": "execute_result"
    }
   ],
   "source": [
    "df.groupby('name')['subject'].count()"
   ]
  },
  {
   "cell_type": "markdown",
   "id": "9b6ea3ed-c1e7-4cc3-964e-9461906bdd87",
   "metadata": {},
   "source": [
    "`\n",
    "SELECT name,\n",
    "       count(subject) as no_of_subjects,\n",
    "       sum(marks) as total_marks\n",
    " FROM df\n",
    " GROUP BY name\n",
    " `"
   ]
  },
  {
   "cell_type": "code",
   "execution_count": 39,
   "id": "2f5ebaf4-ebca-47b1-bf43-ccd644ec6bd7",
   "metadata": {},
   "outputs": [
    {
     "name": "stdout",
     "output_type": "stream",
     "text": [
      "  name  no_of_subjects  total_marks\n",
      "0    A               3          202\n",
      "1    B               3          115\n",
      "2    C               3          219\n"
     ]
    }
   ],
   "source": [
    "q1 = '''\n",
    " SELECT name,\n",
    "       count(subject) as no_of_subjects,\n",
    "       sum(marks) as total_marks\n",
    " FROM df\n",
    " GROUP BY name\n",
    "'''\n",
    "print(ps.sqldf(q1,locals()))"
   ]
  },
  {
   "cell_type": "code",
   "execution_count": 40,
   "id": "c2ae247b-e269-4e46-99c9-e67829cecb34",
   "metadata": {},
   "outputs": [
    {
     "data": {
      "text/html": [
       "<div>\n",
       "<style scoped>\n",
       "    .dataframe tbody tr th:only-of-type {\n",
       "        vertical-align: middle;\n",
       "    }\n",
       "\n",
       "    .dataframe tbody tr th {\n",
       "        vertical-align: top;\n",
       "    }\n",
       "\n",
       "    .dataframe thead th {\n",
       "        text-align: right;\n",
       "    }\n",
       "</style>\n",
       "<table border=\"1\" class=\"dataframe\">\n",
       "  <thead>\n",
       "    <tr style=\"text-align: right;\">\n",
       "      <th></th>\n",
       "      <th>no_of_subjects</th>\n",
       "      <th>marks</th>\n",
       "    </tr>\n",
       "    <tr>\n",
       "      <th>name</th>\n",
       "      <th></th>\n",
       "      <th></th>\n",
       "    </tr>\n",
       "  </thead>\n",
       "  <tbody>\n",
       "    <tr>\n",
       "      <th>A</th>\n",
       "      <td>3</td>\n",
       "      <td>202</td>\n",
       "    </tr>\n",
       "    <tr>\n",
       "      <th>B</th>\n",
       "      <td>3</td>\n",
       "      <td>115</td>\n",
       "    </tr>\n",
       "    <tr>\n",
       "      <th>C</th>\n",
       "      <td>3</td>\n",
       "      <td>219</td>\n",
       "    </tr>\n",
       "  </tbody>\n",
       "</table>\n",
       "</div>"
      ],
      "text/plain": [
       "      no_of_subjects  marks\n",
       "name                       \n",
       "A                  3    202\n",
       "B                  3    115\n",
       "C                  3    219"
      ]
     },
     "execution_count": 40,
     "metadata": {},
     "output_type": "execute_result"
    }
   ],
   "source": [
    "df.groupby('name').agg({'subject': 'count', 'marks': 'sum'}).rename(columns={'subject': 'no_of_subjects'})\n"
   ]
  },
  {
   "cell_type": "markdown",
   "id": "cb3e89b7-0224-4f90-834a-dbd4e34f0eb9",
   "metadata": {},
   "source": [
    "`\n",
    "SELECT name,\n",
    "       count(subject) as no_of_subjects,\n",
    "       sum(marks) as total_marks,\n",
    "       max(marks) as highest_marks\n",
    " FROM df\n",
    " GROUP BY name\n",
    " `"
   ]
  },
  {
   "cell_type": "code",
   "execution_count": 41,
   "id": "b238418c-6cee-4907-95ba-3aa6b8ce63e5",
   "metadata": {},
   "outputs": [
    {
     "name": "stdout",
     "output_type": "stream",
     "text": [
      "  name  no_of_subjects  total_marks  highest_marks\n",
      "0    A               3          202             91\n",
      "1    B               3          115             42\n",
      "2    C               3          219             91\n"
     ]
    }
   ],
   "source": [
    "q1 = '''\n",
    " SELECT name,\n",
    "       count(subject) as no_of_subjects,\n",
    "       sum(marks) as total_marks,\n",
    "       max(marks) as highest_marks\n",
    " FROM df\n",
    " GROUP BY name\n",
    "'''\n",
    "print(ps.sqldf(q1,locals()))"
   ]
  },
  {
   "cell_type": "code",
   "execution_count": 42,
   "id": "23f9847f-5d00-4437-b333-84593e3743c1",
   "metadata": {},
   "outputs": [
    {
     "data": {
      "text/html": [
       "<div>\n",
       "<style scoped>\n",
       "    .dataframe tbody tr th:only-of-type {\n",
       "        vertical-align: middle;\n",
       "    }\n",
       "\n",
       "    .dataframe tbody tr th {\n",
       "        vertical-align: top;\n",
       "    }\n",
       "\n",
       "    .dataframe thead th {\n",
       "        text-align: right;\n",
       "    }\n",
       "</style>\n",
       "<table border=\"1\" class=\"dataframe\">\n",
       "  <thead>\n",
       "    <tr style=\"text-align: right;\">\n",
       "      <th></th>\n",
       "      <th>name</th>\n",
       "      <th>no_of_subjects</th>\n",
       "      <th>total_marks</th>\n",
       "      <th>highest_marks</th>\n",
       "    </tr>\n",
       "  </thead>\n",
       "  <tbody>\n",
       "    <tr>\n",
       "      <th>0</th>\n",
       "      <td>A</td>\n",
       "      <td>3</td>\n",
       "      <td>202</td>\n",
       "      <td>91</td>\n",
       "    </tr>\n",
       "    <tr>\n",
       "      <th>1</th>\n",
       "      <td>B</td>\n",
       "      <td>3</td>\n",
       "      <td>115</td>\n",
       "      <td>42</td>\n",
       "    </tr>\n",
       "    <tr>\n",
       "      <th>2</th>\n",
       "      <td>C</td>\n",
       "      <td>3</td>\n",
       "      <td>219</td>\n",
       "      <td>91</td>\n",
       "    </tr>\n",
       "  </tbody>\n",
       "</table>\n",
       "</div>"
      ],
      "text/plain": [
       "  name  no_of_subjects  total_marks  highest_marks\n",
       "0    A               3          202             91\n",
       "1    B               3          115             42\n",
       "2    C               3          219             91"
      ]
     },
     "execution_count": 42,
     "metadata": {},
     "output_type": "execute_result"
    }
   ],
   "source": [
    "# group by name and apply count, sum and max functions on subject and marks columns\n",
    "df.groupby('name').agg(no_of_subjects=('subject', 'count'), total_marks=('marks', 'sum'), highest_marks=('marks', 'max')).reset_index()\n"
   ]
  },
  {
   "cell_type": "markdown",
   "id": "03e2c538-4dc1-469b-a89f-f41d660d8db4",
   "metadata": {},
   "source": [
    "## Window Functions - Row_Number(), Rank(), Dense_Rank()"
   ]
  },
  {
   "cell_type": "code",
   "execution_count": 43,
   "id": "17c272a4-4383-4dd6-8af6-3cfa4348401f",
   "metadata": {},
   "outputs": [
    {
     "name": "stdout",
     "output_type": "stream",
     "text": [
      "  name  subject  marks  row_n  rnk  dense_rnk\n",
      "0    A    Maths     91      1    1          1\n",
      "1    A   social     91      2    1          1\n",
      "2    A  science     20      3    3          2\n",
      "3    B   social     42      1    1          1\n",
      "4    B  science     38      2    2          2\n",
      "5    B    Maths     35      3    3          3\n",
      "6    C    Maths     91      1    1          1\n",
      "7    C   social     90      2    2          2\n",
      "8    C  science     38      3    3          3\n"
     ]
    }
   ],
   "source": [
    "q1 ='''select name,subject,marks,\n",
    "row_number() over(partition by name order by marks desc ) as row_n,\n",
    "rank() over(partition by name order by marks desc) as rnk,\n",
    "dense_rank() over(partition by name order by marks desc) as dense_rnk\n",
    "from df'''\n",
    "print(ps.sqldf(q1,locals()))\n"
   ]
  },
  {
   "cell_type": "code",
   "execution_count": 44,
   "id": "416303c3-a325-4771-acec-932caf24247a",
   "metadata": {},
   "outputs": [
    {
     "name": "stdout",
     "output_type": "stream",
     "text": [
      "  name  subject  marks  row_n1  rnk1  dense_rnk1\n",
      "0    A    Maths     91       1     1           1\n",
      "1    A  science     20       3     3           2\n",
      "2    A   social     91       2     1           1\n",
      "3    B    Maths     35       3     3           3\n",
      "4    B  science     38       2     2           2\n",
      "5    B   social     42       1     1           1\n",
      "6    C    Maths     91       1     1           1\n",
      "7    C  science     38       3     3           3\n",
      "8    C   social     90       2     2           2\n"
     ]
    }
   ],
   "source": [
    "# create a new column for row number\n",
    "df['row_n1'] = df.groupby('name')['marks'].rank(method='first', ascending=False)\n",
    "\n",
    "# create a new column for rank\n",
    "df['rnk1'] = df.groupby('name')['marks'].rank(method='min', ascending=False)\n",
    "\n",
    "# create a new column for dense rank\n",
    "df['dense_rnk1'] = df.groupby('name')['marks'].rank(method='dense', ascending=False)\n",
    "\n",
    "# values float to integer\n",
    "df[['row_n1', 'rnk1', 'dense_rnk1']] = df[['row_n1', 'rnk1', 'dense_rnk1']].astype(int)\n",
    "\n",
    "# print the dataframe\n",
    "print(df)\n"
   ]
  },
  {
   "cell_type": "markdown",
   "id": "c471afbe-c029-4fa6-9f22-45c18dbfc3c0",
   "metadata": {
    "tags": []
   },
   "source": [
    " ##### Author: &lt; Shafi Mohiddin Shaik&gt; <hr> LinkedIn : [Click to get redirected to Shafi's Linkedin Page]( https://www.linkedin.com/in/shafi-s-0279651b0/)"
   ]
  }
 ],
 "metadata": {
  "kernelspec": {
   "display_name": "Python 3 (ipykernel)",
   "language": "python",
   "name": "python3"
  },
  "language_info": {
   "codemirror_mode": {
    "name": "ipython",
    "version": 3
   },
   "file_extension": ".py",
   "mimetype": "text/x-python",
   "name": "python",
   "nbconvert_exporter": "python",
   "pygments_lexer": "ipython3",
   "version": "3.9.11"
  }
 },
 "nbformat": 4,
 "nbformat_minor": 5
}
